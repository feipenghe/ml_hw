{
 "cells": [
  {
   "cell_type": "code",
   "execution_count": 9,
   "metadata": {},
   "outputs": [],
   "source": [
    "import sys\n",
    "import numpy as np"
   ]
  },
  {
   "cell_type": "code",
   "execution_count": 10,
   "metadata": {},
   "outputs": [
    {
     "name": "stdout",
     "output_type": "stream",
     "text": [
      "(1000,)\n",
      "[[-0.13819953  1.13393376  0.24199325 ... -0.2239446   1.02846405\n",
      "  -0.05827692]\n",
      " [ 2.43614543  0.37983609 -0.04953126 ...  1.25649751  0.72098792\n",
      "  -0.02565477]\n",
      " [ 0.32762328  0.59763087  1.40309335 ... -0.93150178 -0.65235579\n",
      "   1.45051658]\n",
      " ...\n",
      " [-0.40658607  1.77524535 -0.4208692  ...  1.2967607  -3.04392907\n",
      "  -0.93542171]\n",
      " [-0.48290602 -0.53986137 -0.00811075 ...  1.58323867  1.49325329\n",
      "   2.2258025 ]\n",
      " [-0.13948833 -1.20918153  0.95978756 ... -1.31349699  0.26313616\n",
      "   1.44257026]]\n",
      "[ 1.19058624e+00  6.43347028e+00 -8.24881373e+00 -9.98992265e+00\n",
      " -6.36445806e+00  7.18652580e+00 -1.87156914e+01 -5.93392484e+00\n",
      " -1.71707313e+00 -3.16561791e+00  1.17601056e+01 -8.77782229e+00\n",
      " -1.69778341e+01 -2.37987753e+01 -5.86190361e+00  7.96198447e+00\n",
      "  1.26057012e+01  4.59792986e+00  4.17586736e+00  5.89906756e+00\n",
      " -2.50326037e+01  2.30213590e+00 -7.53178919e+00  1.21561179e+00\n",
      " -3.52937461e+01 -1.06962611e+01 -8.53957953e+00  5.59509520e+00\n",
      "  4.31907632e+00  1.17656884e+01  1.07505680e+01  1.70291804e+01\n",
      " -9.81494046e-01  1.78713009e+01 -7.17738393e+00  1.47785331e+01\n",
      " -1.47064747e+01 -5.93217544e+00  1.23742814e+01 -4.46330907e+00\n",
      " -4.46851272e+00 -2.20143829e+00 -3.04701035e+00 -4.06830745e+00\n",
      " -2.74719407e-01  1.16369336e+00 -1.49590039e+01 -4.30537096e+00\n",
      " -7.42102465e+00 -3.64999411e+00  1.41478895e+01  4.12962339e+00\n",
      "  1.75496644e+01  7.55711824e+00  1.97984520e+01  5.71935472e+00\n",
      " -1.57082058e+01  1.60523730e+01  9.83614305e+00  9.59683582e+00\n",
      " -9.09937972e+00 -2.00172621e+01 -3.37456178e+00 -2.13343180e+01\n",
      " -9.31894929e-01  2.68624773e+00 -2.98474605e+00 -2.31535677e+00\n",
      "  9.24009613e+00  6.16681942e-02 -8.15482645e+00 -1.51983538e+00\n",
      " -1.79447280e+01 -1.23447133e+00 -1.06541149e+01  9.50016698e+00\n",
      "  2.00421782e+00  1.80384683e+01  1.63739598e+01 -2.43056206e+00\n",
      "  9.47578242e+00 -1.87568990e+01  3.91120304e+00 -6.61428644e+00\n",
      " -6.29597716e+00 -2.08865377e+00  3.02100942e+00 -5.66127897e+00\n",
      " -4.38801566e+00 -4.67164825e+00  5.18579862e+00 -4.59338194e+00\n",
      "  1.54680669e+00  2.56277319e+00 -1.00712682e+01 -7.41142675e+00\n",
      " -4.36010626e+00 -2.88423164e+00 -1.58446088e+01 -9.38677007e+00\n",
      "  5.78717038e+00 -1.71426793e+00 -1.11381740e+01  6.73551570e-01\n",
      " -3.68537391e+00  2.01964012e+01  6.50646219e+00  9.88889326e+00\n",
      " -2.55092468e+01 -1.30022593e+01 -6.51164204e+00 -5.82370070e-01\n",
      "  2.37004906e+00 -6.32393375e+00  1.60904901e+01 -6.75277716e+00\n",
      " -2.04937607e+01 -1.12354623e+01  1.74686978e+00  1.31627380e+00\n",
      "  5.75719487e+00  2.20246991e+00  2.19849025e+00 -1.71847541e+01\n",
      "  1.39192628e+01  1.34683819e+01  3.18170638e+00  6.67618619e+00\n",
      " -3.80091811e+01 -2.81494686e-01 -2.16737558e+01  6.61288939e+00\n",
      "  8.40101724e+00 -1.79592236e+01  5.66629098e+00 -2.37849320e+00\n",
      " -1.07695560e+00  2.00620221e+00 -4.79037329e+00 -7.06943294e+00\n",
      "  8.87778688e+00  2.09120975e+01  2.16585327e+01 -1.52037653e+01\n",
      "  3.35227520e+00  6.57826168e+00 -1.65348183e+01 -6.95107650e+00\n",
      "  1.24837636e+01  5.82484265e+00  6.92819120e+00 -1.44250852e+01\n",
      "  1.26646752e+01  7.11754339e+00 -5.58598190e+00  6.74276570e+00\n",
      "  5.34312138e+00  7.34924431e+00  8.14441563e+00  6.29897326e+00\n",
      "  1.54846055e+01  1.15822702e+01  2.36132687e+01 -9.17551714e+00\n",
      "  1.18447477e+01 -9.68489959e+00  6.38050301e+00  7.80727363e+00\n",
      " -1.29566662e+01 -1.70689403e+01  5.38403226e+00  7.34012936e-01\n",
      " -3.18623471e+00  1.16290871e+01 -1.40154022e+01  5.25644149e+00\n",
      "  8.62336460e+00 -8.48603948e+00 -2.84928362e+00  1.72211269e+00\n",
      " -8.97154195e+00 -6.67012887e+00 -2.03643446e+00  6.98398761e+00\n",
      "  1.60907716e+01  1.73830923e+01  4.21076370e+00  5.71689629e+00\n",
      " -4.39601166e+00  9.38518954e+00 -1.64202743e+01  9.13174438e-01\n",
      " -5.44589350e+00 -3.91764521e+00  6.18580553e+00 -5.16827316e+00\n",
      " -7.20820514e+00  2.58771199e+00 -3.02126725e-01  1.03396644e+01\n",
      " -1.73322958e+01 -8.08826851e+00  3.04594477e+00 -1.67406452e+01\n",
      "  1.12959935e+01 -2.49175829e+01 -9.24232372e+00 -1.21164026e+01\n",
      "  7.04895686e+00  1.04867984e+01 -2.38984030e+01  6.54360673e-01\n",
      "  1.17377991e+01 -3.40337169e+00 -7.64194741e+00 -1.35520615e+01\n",
      "  9.74492766e+00 -1.64657078e+01  1.00129367e+01  1.75962620e+01\n",
      " -1.15271219e+01 -4.03000143e+00 -3.56573812e+00  1.11289774e+01\n",
      "  9.76110907e+00  5.38288294e+00 -1.94082429e+00  3.82692570e+00\n",
      "  3.54235210e+00  5.94465090e+00  2.67478878e+00  1.39322296e+01\n",
      " -8.94305338e-01  3.30342049e+00  2.64671932e+01  1.79808544e+01\n",
      "  1.90453749e+01 -1.44727568e+00  1.03415158e+01 -6.35917432e+00\n",
      "  1.83534214e+01 -1.90067903e+01 -7.68108411e+00 -3.57842871e+00\n",
      " -8.18073466e+00  1.29491229e+00 -2.76793773e+00 -6.69912840e+00\n",
      "  9.96122860e+00 -2.50163180e+01  1.45855285e+01 -1.31312504e+01\n",
      "  1.34155539e+01  2.49431161e+01  8.12836118e-01 -1.18647614e+01\n",
      "  4.21259754e+00 -1.86915688e+00  2.45800713e+00  1.59718280e+01\n",
      " -6.76855276e+00 -8.59112582e+00  6.50972354e+00  9.10393622e+00\n",
      "  1.08170980e+01  1.25489293e+01  1.33326559e+01 -3.06608625e+00\n",
      " -4.48851261e+00 -8.54337294e-01  3.75241916e+00  1.42242237e+00\n",
      "  2.07601757e-01 -7.83760564e+00 -1.22281302e+01 -2.27185283e+01\n",
      " -4.44586236e+00 -2.43510021e+00 -2.53015916e+01  9.91600766e+00\n",
      " -7.27418626e+00  7.88115518e+00 -1.76255390e+01 -6.03900467e+00\n",
      "  7.78427661e+00  3.09266830e+00  8.51735616e+00 -1.76662032e+01\n",
      "  3.35552108e+00  1.36919969e+01 -2.33032600e+00 -2.18761330e+01\n",
      " -1.73779212e+01 -4.54126860e+00  5.19891159e+00 -1.43120278e+01\n",
      "  6.20389335e+00 -1.40113604e+01  6.42002980e-02  1.34582655e+00\n",
      " -7.51857031e+00 -9.75143564e+00  7.61456462e+00  1.87569686e+01\n",
      "  1.46576168e+01  1.59249664e+01 -6.36012947e+00 -6.73515141e-01\n",
      " -1.15915030e+01  1.18698684e+01  1.05310725e+01  3.48646228e+00\n",
      "  1.69349918e+00 -7.36068101e-01 -1.05202309e+01 -3.21452558e+00\n",
      " -1.58930935e+01 -7.25171152e+00  4.79453949e+00  5.45776447e-01\n",
      " -1.06524397e+01  6.27399620e+00  4.24685121e+00 -4.24539294e+00\n",
      "  1.71650796e+01 -1.17938025e+00 -6.28232980e+00 -1.52963884e+01\n",
      " -8.22332343e+00 -4.66422974e+00  7.15533826e+00 -1.91074015e+01\n",
      " -1.37362271e+01 -1.76298558e+01  4.38243656e-01 -8.84187472e+00\n",
      " -5.23553655e-01 -1.48332424e+01 -6.39952630e+00  3.28227074e+00\n",
      " -1.03613131e+01  1.31061747e+01  3.70664689e+00 -1.70677834e+01\n",
      "  1.34200589e+01 -9.09665271e-02  5.71262920e+00 -5.84601485e-01\n",
      " -8.64912349e+00  5.99289850e+00 -4.02578741e+00 -3.05609354e+00\n",
      " -5.95827573e+00 -1.43000172e+01  3.75808794e+00  5.26620824e+00\n",
      "  1.21672239e+01 -1.09499559e+01 -1.91218672e+01 -1.45130929e+01\n",
      "  6.23231805e+00 -1.20858856e+01 -1.32699246e+01  4.25818302e+00\n",
      "  2.80382665e+00 -7.53043676e-01 -8.32615680e+00  1.56687135e+00\n",
      " -9.17732135e+00 -1.99067585e+01 -6.39752101e+00  1.87641042e+01\n",
      " -5.50499551e+00 -2.09896056e+01 -1.02271406e+00 -3.98134328e+00\n",
      "  3.72117302e+00 -1.16453444e+01 -1.50516494e+01 -8.92020901e+00\n",
      "  1.90905379e+01  1.91260681e+00  5.82050510e+00 -5.87182864e+00\n",
      "  2.56334089e+00  1.32220266e+01  1.19792096e+01  1.60980863e+00\n",
      " -5.22197036e+00 -1.64734629e+01  2.40050762e+01 -1.19722211e+01\n",
      " -4.56159810e+00  7.59958745e+00  3.78592765e+00 -2.37480020e+01\n",
      " -4.18515148e+00  2.36631589e+00  1.34721380e+01 -2.61805994e+01\n",
      " -5.56371715e+00  7.63599709e+00  3.62350682e+00  8.91504497e+00\n",
      " -1.86582416e+01  1.70841975e+01 -9.16818810e+00  6.30835093e+00\n",
      "  1.40990504e+01  1.18576127e+01 -6.71313649e+00  7.64804589e+00\n",
      "  2.70333906e+00  1.93747354e+00  1.55770306e+00  9.48302649e+00\n",
      "  7.78939490e-01  1.51301043e+01  6.53871089e+00  5.89526767e+00\n",
      " -8.00697859e+00 -5.58586771e+00 -1.76838788e+01  1.36746453e+01\n",
      "  2.00645991e-02 -3.64318080e+00 -8.45065703e+00 -2.76017128e+00\n",
      " -1.40101975e+01  1.37480368e+00 -6.61401031e+00  7.17718782e+00\n",
      " -1.74238064e+01  7.68482677e+00 -1.61462426e+01  1.28678034e+01\n",
      " -9.03851730e+00 -7.87763588e+00 -2.33228666e-01 -1.33957993e+01\n",
      " -1.32789196e+01 -3.39539018e+00  1.37600177e+01 -1.50325564e+00\n",
      " -3.57530737e+00  7.51878551e+00  1.67176785e+00 -1.12417401e+01\n",
      "  6.18242336e+00 -9.62670192e+00 -1.74626388e+00 -5.72971195e+00\n",
      "  8.47065599e+00 -6.81509811e+00  9.62426083e+00  1.73961877e+01\n",
      "  5.37121925e+00 -6.09050492e-01 -1.12935576e+01 -3.44182596e+00\n",
      " -8.15998914e-01  4.87802151e+00  2.72042886e+00  1.61233831e-02\n",
      "  4.97988638e+00  2.30432755e+00  1.78869722e+01 -2.47942965e+00\n",
      " -8.47941782e+00 -1.24701007e+01  2.20895449e-01  1.59741930e+00\n",
      "  9.32835649e-01  2.31363207e+00  2.18083956e+00  7.19739916e+00\n",
      " -1.19007924e+01 -6.26505769e+00 -1.69027842e+01 -4.58359586e+00\n",
      "  4.21247139e+00  9.26475062e+00  7.64416244e+00 -6.92468491e+00\n",
      " -1.19092452e+00  9.66655115e+00 -1.97958198e+01  1.30966003e+01\n",
      "  5.04358682e+00  7.67847607e+00  6.08688923e+00 -3.78364853e+00\n",
      "  8.94970342e+00 -2.17956158e+00  2.10114956e+00 -1.81103588e+00\n",
      "  1.93399289e+01 -8.27920300e+00 -6.63628053e-01  1.94908005e+00]\n"
     ]
    }
   ],
   "source": [
    "# TODO: is the 0 weights random or just with index larger than k\n",
    "n = 500\n",
    "d = 1000\n",
    "k = 100\n",
    "sigma = 1\n",
    "\n",
    "\n",
    "train_x = np.random.normal(0,1, (n,d))\n",
    "\n",
    "\n",
    "# use two np arange?\n",
    "non_empty_weights = np.arange(k)\n",
    "# w = np.zeros(d) # initial weights ready for training\n",
    "true_w = np.zeros(d)\n",
    "true_w[non_empty_weights] = 1  # it's only for generating data\n",
    "w = np.zeros(d)\n",
    "print(w.shape)\n",
    "\n",
    "train_y = train_x.dot(true_w) + np.random.normal(0,1, n)\n",
    "\n",
    "print(train_x)\n",
    "print(train_y)"
   ]
  },
  {
   "cell_type": "code",
   "execution_count": 31,
   "metadata": {},
   "outputs": [
    {
     "data": {
      "text/plain": [
       "0"
      ]
     },
     "execution_count": 31,
     "metadata": {},
     "output_type": "execute_result"
    }
   ],
   "source": [
    "a = np.array([0.0])\n",
    "\n",
    "np.count_nonzero(a)"
   ]
  },
  {
   "cell_type": "code",
   "execution_count": 48,
   "metadata": {
    "scrolled": true
   },
   "outputs": [
    {
     "name": "stdout",
     "output_type": "stream",
     "text": [
      "max_lambda:  2482.1947209547843\n",
      "w_updates  3\n",
      "maximum update  0.0\n",
      "correct_num_nonzero:  0\n",
      "new lambda:  1241.0973604773922\n",
      "w_updates  4\n",
      "maximum update  1.1756687405758472\n",
      "w_updates  5\n",
      "maximum update  0.0537075452445851\n",
      "w_updates  6\n",
      "maximum update  0.0321860046659469\n",
      "correct_num_nonzero:  31\n",
      "new lambda:  620.5486802386961\n",
      "w_updates  7\n",
      "maximum update  0.6911326697008765\n",
      "w_updates  8\n",
      "maximum update  0.17530284941980648\n",
      "w_updates  9\n",
      "maximum update  0.034883310057995054\n",
      "correct_num_nonzero:  79\n",
      "new lambda:  310.27434011934804\n",
      "w_updates  10\n",
      "maximum update  0.41389853481267297\n",
      "w_updates  11\n",
      "maximum update  0.13374859716932552\n",
      "w_updates  12\n",
      "maximum update  0.061330236459921306\n",
      "w_updates  13\n",
      "maximum update  0.030949997648543337\n",
      "correct_num_nonzero:  99\n",
      "new lambda:  155.13717005967402\n",
      "w_updates  14\n",
      "maximum update  0.26300150845799586\n",
      "w_updates  15\n",
      "maximum update  0.11981032882211368\n",
      "w_updates  16\n",
      "maximum update  0.07245128346166074\n",
      "w_updates  17\n",
      "maximum update  0.04044997480440132\n",
      "correct_num_nonzero:  100\n",
      "new lambda:  77.56858502983701\n",
      "w_updates  18\n",
      "maximum update  0.14594730426401992\n",
      "w_updates  19\n",
      "maximum update  0.05788554202111146\n",
      "w_updates  20\n",
      "maximum update  0.03287315744801589\n",
      "correct_num_nonzero:  100\n",
      "new lambda:  38.784292514918505\n",
      "w_updates  21\n",
      "maximum update  0.07756142376022523\n",
      "w_updates  22\n",
      "maximum update  0.028783154367531316\n",
      "correct_num_nonzero:  100\n",
      "new lambda:  19.392146257459252\n",
      "w_updates  23\n",
      "maximum update  0.04028225723186141\n",
      "correct_num_nonzero:  100\n",
      "new lambda:  9.696073128729626\n",
      "w_updates  24\n",
      "maximum update  0.02929734200623113\n",
      "correct_num_nonzero:  100\n",
      "new lambda:  4.848036564364813\n",
      "w_updates  25\n",
      "maximum update  0.01876167383268912\n",
      "correct_num_nonzero:  100\n",
      "new lambda:  2.4240182821824066\n",
      "w_updates  26\n",
      "maximum update  0.012823062523626416\n",
      "correct_num_nonzero:  100\n",
      "new lambda:  1.2120091410912033\n",
      "w_updates  27\n",
      "maximum update  0.009342783731595139\n",
      "correct_num_nonzero:  100\n",
      "new lambda:  0.6060045705456016\n",
      "w_updates  28\n",
      "maximum update  0.006857812707030113\n",
      "correct_num_nonzero:  100\n",
      "new lambda:  0.3030022852728008\n",
      "w_updates  29\n",
      "maximum update  0.005318658132160793\n",
      "correct_num_nonzero:  100\n",
      "new lambda:  0.1515011426364004\n",
      "w_updates  30\n",
      "maximum update  0.003804377741741128\n",
      "correct_num_nonzero:  100\n",
      "new lambda:  0.0757505713182002\n",
      "w_updates  31\n",
      "maximum update  0.0026902713420205795\n",
      "correct_num_nonzero:  100\n",
      "new lambda:  0.0378752856591001\n",
      "w_updates  32\n",
      "maximum update  0.0018812634306148435\n",
      "correct_num_nonzero:  100\n",
      "new lambda:  0.01893764282955005\n",
      "w_updates  33\n",
      "maximum update  0.0013224166699812717\n",
      "correct_num_nonzero:  100\n",
      "new lambda:  0.009468821414775026\n"
     ]
    }
   ],
   "source": [
    "# TODO: regularization path\n",
    "# it updates values column by column and each time use all data\n",
    "\n",
    "\n",
    "reg_lambda_l = []\n",
    "# initialize lambda\n",
    "for k in range(d):\n",
    "    reg_lambda = 2*np.abs(np.sum(train_x[:,k] *(train_y-np.average(train_y))   ,axis=0))\n",
    "    reg_lambda_l.append(reg_lambda)\n",
    "reg_lambda = max(reg_lambda_l)\n",
    "\n",
    "print(\"max_lambda: \", reg_lambda)\n",
    "\n",
    "\n",
    "num_nonzero_l = []\n",
    "reg_lambda_l = []\n",
    "reg_lambda_l.append(reg_lambda)\n",
    "\n",
    "objective_val_l = []\n",
    "\n",
    "FDR_l = []\n",
    "TPR_l = []\n",
    "true_k = 100\n",
    "\n",
    "\n",
    "w_updates = [np.zeros(d)] # initialize how much w_updates\n",
    "w_prev = np.zeros(d)\n",
    "b_l = [(1/n)*np.sum( train_y - train_x.dot(w))]\n",
    "while reg_lambda > 1e-2:  # TODO\n",
    "    max_update = sys.maxsize\n",
    "#     # for each lambda solution, compute w from zero vector\n",
    "#     w_prev = np.zeros(d)\n",
    "    w = w_updates[-1]\n",
    "    w = w_prev\n",
    "    b = b_l[-1]\n",
    "    \n",
    "    count = 0\n",
    "    \n",
    "    while max_update >= 0.05: # condition for not converge\n",
    "        # pre-compute a\n",
    "        # as a is fixed and solely depends on X\n",
    "        a = 2*np.sum(train_x**2, axis = 0)  # axis = 0 by default\n",
    "    #     print(a.shape)\n",
    "        for k in range(d):\n",
    "            excluded_train_x = np.delete(train_x, k, axis = 1)\n",
    "            excluded_w = np.delete(w, k)\n",
    "            # calculate the cost\n",
    "            c_k = 2*np.sum(train_x[:,k]*(train_y- (b+ excluded_train_x.dot(excluded_w))  )  )\n",
    "            # update weights\n",
    "            if c_k < -reg_lambda:\n",
    "                w[k]= (c_k+reg_lambda)/a[k]\n",
    "            elif c_k > reg_lambda:\n",
    "                w[k] = (c_k- reg_lambda)/a[k]\n",
    "            else:\n",
    "                w[k] = 0\n",
    "            \n",
    "        # sanity check\n",
    "        obj_val = np.sum(  (train_x.dot(w) + b - train_y)**2 )+ np.sum(reg_lambda * np.absolute(w))\n",
    "        objective_val_l.append(obj_val)\n",
    "        \n",
    "        w_updates.append(np.array(w))  # append the updated w\n",
    "        b = (1/n)*np.sum( train_y - train_x.dot(w))\n",
    "        b_l.append(b)\n",
    "\n",
    "        if len(w_updates) > 2:  # TODO: maximum \n",
    "            print(\"w_updates \", len(w_updates))\n",
    "            max_update = np.max(w_updates[-1]-w_updates[-2])\n",
    "            print(\"maximum update \",  max_update)\n",
    "            if max_update == 0: # skip zero weight matrix\n",
    "                break\n",
    "        w_prev = w\n",
    "#     correct_num_nonzero = np.sum((w != 0) * (true_w != 0))\n",
    "    k = 100\n",
    "    correct_num_nonzero = np.sum( w[:k] != 0)\n",
    "    \n",
    "#     print(\"w: \", w)\n",
    "#     print(\"true_w\", true_w)\n",
    "    print(\"correct_num_nonzero: \", correct_num_nonzero)\n",
    "    count += 1\n",
    "    if count >= 10:\n",
    "        break\n",
    "    \n",
    "    incor_num_nonzero = np.sum( w[k:] != 0 )\n",
    "    \n",
    "    # keep track of number of nonzero for each solution\n",
    "    num_nonzero = np.sum(w != 0)\n",
    "    num_nonzero_l.append(num_nonzero)\n",
    "    # FDR\n",
    "    if num_nonzero == 0:\n",
    "        # invalid number of nonzero\n",
    "        FDR_l.append(0.0)\n",
    "    else:\n",
    "        FDR_l.append(incor_num_nonzero/num_nonzero)\n",
    "    # TPR\n",
    "    TPR_l.append(correct_num_nonzero/true_k)\n",
    "    \n",
    "#     print(\"FDR_l \", FDR_l)\n",
    "#     print(\"TPR_l: \", TPR_l)\n",
    "#     break\n",
    "    \n",
    "    # regularization lambda\n",
    "    reg_lambda = reg_lambda*0.5\n",
    "    reg_lambda_l.append(reg_lambda)\n",
    "    print(\"new lambda: \", reg_lambda)"
   ]
  },
  {
   "cell_type": "code",
   "execution_count": 13,
   "metadata": {
    "scrolled": true
   },
   "outputs": [
    {
     "name": "stdout",
     "output_type": "stream",
     "text": [
      "number of wrong optimization:  0\n",
      "[56515.896511009174, 56515.896511009174, 53215.25117797921, 53089.02605322361, 53087.4198615823, 53087.350316255404, 53087.349240609394, 41184.28973563168, 40547.4012845456, 40518.51378724196, 40515.58161539094, 40515.15086591176, 25876.502163661047, 25597.196693571914, 25567.842941649764, 25561.596521360567, 25560.088622103467, 25559.676367518423, 25559.54816737496, 14523.106310459938, 14395.449960735843, 14365.432302481051, 14354.409365383395, 14350.072827481787, 14348.330642500663, 14347.577209163013, 14347.235493479327, 14347.075477705212, 7707.491774286061, 7676.208909966772, 7669.263502687918, 7666.671748192274, 7665.468467093304, 7664.88939361399, 7664.603372856092, 7664.462912845766, 4030.2714650436146, 4019.081101610899, 4016.2906030679683, 4015.3392193188706, 4014.9380710595583, 2088.19283483896, 2082.407475978324, 2080.4682769725277, 2079.4028166979633, 2078.777964764488, 1071.9323051673248, 1068.5001603431606, 1067.1116955545078, 1066.3470707943275, 1065.8749167175251, 545.0930134579178, 543.5556636259848, 542.8766493831844, 276.0773782947405, 275.17146202725286, 139.3221276769061, 70.36278662879398, 35.45115625001877, 17.82904217404372, 8.953935750454237]\n"
     ]
    }
   ],
   "source": [
    "# sanity check continue\n",
    "count = 0\n",
    "for i in range(1,len(objective_val_l)):\n",
    "    if objective_val_l[i-1] < objective_val_l[i]:\n",
    "        count += 1\n",
    "print(\"number of wrong optimization: \" , count)\n",
    "print(objective_val_l)"
   ]
  },
  {
   "cell_type": "code",
   "execution_count": 22,
   "metadata": {},
   "outputs": [
    {
     "data": {
      "image/png": "[encoded data removed]",
      "text/plain": [
       "<Figure size 432x288 with 1 Axes>"
      ]
     },
     "metadata": {
      "needs_background": "light"
     },
     "output_type": "display_data"
    }
   ],
   "source": [
    "from matplotlib import pyplot as plt\n",
    "reg_lambda_0 = max(reg_lambda_l)\n",
    "plt.plot(reg_lambda_l[:-1], num_nonzero_l)\n",
    "plt.xscale(\"log\")\n",
    "# plt.xlim(reg_lambda_0, 1e-2) \n",
    "plt.xlim(1e-2, reg_lambda_0) \n",
    "plt.xlabel(\"reg_lambda\")\n",
    "plt.ylabel(\"number of nonzero\")\n",
    "plt.savefig(\"A4a\")\n",
    "plt.show()\n"
   ]
  },
  {
   "cell_type": "code",
   "execution_count": 42,
   "metadata": {},
   "outputs": [
    {
     "data": {
      "text/plain": [
       "31"
      ]
     },
     "execution_count": 42,
     "metadata": {},
     "output_type": "execute_result"
    }
   ],
   "source": [
    "len(w_updates)"
   ]
  },
  {
   "cell_type": "code",
   "execution_count": 16,
   "metadata": {},
   "outputs": [
    {
     "name": "stdout",
     "output_type": "stream",
     "text": [
      "[2482.1947209547843, 1241.0973604773922, 620.5486802386961, 310.27434011934804, 155.13717005967402, 77.56858502983701, 38.784292514918505, 19.392146257459252, 9.696073128729626, 4.848036564364813, 2.4240182821824066, 1.2120091410912033, 0.6060045705456016, 0.3030022852728008, 0.1515011426364004, 0.0757505713182002, 0.0378752856591001]\n"
     ]
    }
   ],
   "source": [
    "print(reg_lambda_l)"
   ]
  },
  {
   "cell_type": "code",
   "execution_count": 45,
   "metadata": {},
   "outputs": [
    {
     "name": "stdout",
     "output_type": "stream",
     "text": [
      "[0.0, 0.1388888888888889, 0.23300970873786409, 0.3310810810810811, 0.42196531791907516, 0.574468085106383, 0.7032640949554896, 0.7950819672131147, 0.8442367601246106, 0.8691099476439791, 0.8816568047337278, 0.8887652947719689, 0.8936170212765957, 0.897119341563786, 0.8980632008154944, 0.8982706002034588]\n",
      "[0.0, 0.31, 0.79, 0.99, 1.0, 1.0, 1.0, 1.0, 1.0, 1.0, 1.0, 1.0, 1.0, 1.0, 1.0, 1.0]\n"
     ]
    }
   ],
   "source": [
    "print(FDR_l)\n",
    "\n",
    "print(TPR_l)"
   ]
  },
  {
   "cell_type": "code",
   "execution_count": 49,
   "metadata": {},
   "outputs": [
    {
     "data": {
      "image/png": "[encoded data removed]",
      "text/plain": [
       "<Figure size 432x288 with 1 Axes>"
      ]
     },
     "metadata": {
      "needs_background": "light"
     },
     "output_type": "display_data"
    }
   ],
   "source": [
    "plt.plot(FDR_l, TPR_l)\n",
    "plt.xlabel(\"FDR\")\n",
    "plt.ylabel(\"TPR\")\n",
    "plt.savefig(\"A4b\")\n",
    "plt.show()"
   ]
  }
 ],
 "metadata": {
  "kernelspec": {
   "display_name": "Python 3",
   "language": "python",
   "name": "python3"
  },
  "language_info": {
   "codemirror_mode": {
    "name": "ipython",
    "version": 3
   },
   "file_extension": ".py",
   "mimetype": "text/x-python",
   "name": "python",
   "nbconvert_exporter": "python",
   "pygments_lexer": "ipython3",
   "version": "3.7.6"
  }
 },
 "nbformat": 4,
 "nbformat_minor": 4
}
