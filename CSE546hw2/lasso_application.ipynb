{
 "cells": [
  {
   "cell_type": "code",
   "execution_count": 65,
   "metadata": {},
   "outputs": [
    {
     "name": "stdout",
     "output_type": "stream",
     "text": [
      "(1595,)\n",
      "(1595, 95)\n"
     ]
    }
   ],
   "source": [
    "import numpy as np\n",
    "train_f = \"data/crime-train.txt\"\n",
    "test_f = \"data/crime-test.txt\"\n",
    "def txt2arr(file_name):\n",
    "    var_d = dict()\n",
    "    with open(file_name) as f:\n",
    "        arr = []\n",
    "        lines = f.readlines()\n",
    "        variables = lines[0].split(\"\\t\")\n",
    "        for i in range(len(variables)):\n",
    "            var_d[variables[i]] = i\n",
    "\n",
    "        for l in lines[1:]:\n",
    "            l = l.strip()\n",
    "            arr.append([float(s) for s in l.split(\"\\t\")])\n",
    "    return np.array(arr), var_d\n",
    "training_data, var_d = txt2arr(train_f) \n",
    "testing_data, _ = txt2arr(test_f)\n",
    "\n",
    "train_x = training_data[:, 1:]\n",
    "train_y = training_data[:, 0]\n",
    "\n",
    "test_x = testing_data[:, 1:]\n",
    "test_y = testing_data[:, 0]\n",
    "print(train_y.shape)\n",
    "print(train_x.shape)"
   ]
  },
  {
   "cell_type": "code",
   "execution_count": 26,
   "metadata": {},
   "outputs": [
    {
     "data": {
      "text/plain": [
       "{'ViolentCrimesPerPop': 0,\n",
       " 'population': 1,\n",
       " 'householdsize': 2,\n",
       " 'agePct12t21': 3,\n",
       " 'agePct12t29': 4,\n",
       " 'agePct16t24': 5,\n",
       " 'agePct65up': 6,\n",
       " 'numbUrban': 7,\n",
       " 'pctUrban': 8,\n",
       " 'medIncome': 9,\n",
       " 'pctWWage': 10,\n",
       " 'pctWFarmSelf': 11,\n",
       " 'pctWInvInc': 12,\n",
       " 'pctWSocSec': 13,\n",
       " 'pctWPubAsst': 14,\n",
       " 'pctWRetire': 15,\n",
       " 'medFamInc': 16,\n",
       " 'perCapInc': 17,\n",
       " 'whitePerCap': 18,\n",
       " 'blackPerCap': 19,\n",
       " 'indianPerCap': 20,\n",
       " 'AsianPerCap': 21,\n",
       " 'HispPerCap': 22,\n",
       " 'NumUnderPov': 23,\n",
       " 'PctPopUnderPov': 24,\n",
       " 'PctLess9thGrade': 25,\n",
       " 'PctNotHSGrad': 26,\n",
       " 'PctBSorMore': 27,\n",
       " 'PctUnemployed': 28,\n",
       " 'PctEmploy': 29,\n",
       " 'PctEmplManu': 30,\n",
       " 'PctEmplProfServ': 31,\n",
       " 'PctOccupManu': 32,\n",
       " 'PctOccupMgmtProf': 33,\n",
       " 'MalePctDivorce': 34,\n",
       " 'MalePctNevMarr': 35,\n",
       " 'FemalePctDiv': 36,\n",
       " 'TotalPctDiv': 37,\n",
       " 'PersPerFam': 38,\n",
       " 'PctFam2Par': 39,\n",
       " 'PctKids2Par': 40,\n",
       " 'PctYoungKids2Par': 41,\n",
       " 'PctTeen2Par': 42,\n",
       " 'PctWorkMomYoungKids': 43,\n",
       " 'PctWorkMom': 44,\n",
       " 'NumIlleg': 45,\n",
       " 'PctIlleg': 46,\n",
       " 'NumImmig': 47,\n",
       " 'PctImmigRecent': 48,\n",
       " 'PctImmigRec5': 49,\n",
       " 'PctImmigRec8': 50,\n",
       " 'PctImmigRec10': 51,\n",
       " 'PctRecentImmig': 52,\n",
       " 'PctRecImmig5': 53,\n",
       " 'PctRecImmig8': 54,\n",
       " 'PctRecImmig10': 55,\n",
       " 'PctSpeakEnglOnly': 56,\n",
       " 'PctNotSpeakEnglWell': 57,\n",
       " 'PctLargHouseFam': 58,\n",
       " 'PctLargHouseOccup': 59,\n",
       " 'PersPerOccupHous': 60,\n",
       " 'PersPerOwnOccHous': 61,\n",
       " 'PersPerRentOccHous': 62,\n",
       " 'PctPersOwnOccup': 63,\n",
       " 'PctPersDenseHous': 64,\n",
       " 'PctHousLess3BR': 65,\n",
       " 'MedNumBR': 66,\n",
       " 'HousVacant': 67,\n",
       " 'PctHousOccup': 68,\n",
       " 'PctHousOwnOcc': 69,\n",
       " 'PctVacantBoarded': 70,\n",
       " 'PctVacMore6Mos': 71,\n",
       " 'MedYrHousBuilt': 72,\n",
       " 'PctHousNoPhone': 73,\n",
       " 'PctWOFullPlumb': 74,\n",
       " 'OwnOccLowQuart': 75,\n",
       " 'OwnOccMedVal': 76,\n",
       " 'OwnOccHiQuart': 77,\n",
       " 'RentLowQ': 78,\n",
       " 'RentMedian': 79,\n",
       " 'RentHighQ': 80,\n",
       " 'MedRent': 81,\n",
       " 'MedRentPctHousInc': 82,\n",
       " 'MedOwnCostPctInc': 83,\n",
       " 'MedOwnCostPctIncNoMtg': 84,\n",
       " 'NumInShelters': 85,\n",
       " 'NumStreet': 86,\n",
       " 'PctForeignBorn': 87,\n",
       " 'PctBornSameState': 88,\n",
       " 'PctSameHouse85': 89,\n",
       " 'PctSameCity85': 90,\n",
       " 'PctSameState85': 91,\n",
       " 'LandArea': 92,\n",
       " 'PopDens': 93,\n",
       " 'PctUsePubTrans': 94,\n",
       " 'LemasPctOfficDrugUn\\n': 95}"
      ]
     },
     "execution_count": 26,
     "metadata": {},
     "output_type": "execute_result"
    }
   ],
   "source": [
    "var_d"
   ]
  },
  {
   "cell_type": "code",
   "execution_count": 25,
   "metadata": {},
   "outputs": [
    {
     "name": "stdout",
     "output_type": "stream",
     "text": [
      "[-0.45 -0.45 -0.14 ...  0.81  0.18  1.12]\n"
     ]
    }
   ],
   "source": [
    "print(train_y)"
   ]
  },
  {
   "cell_type": "code",
   "execution_count": 69,
   "metadata": {},
   "outputs": [],
   "source": [
    "n, d = train_x.shape\n",
    "m, _ = test_x.shape\n",
    "w = np.zeros(d)"
   ]
  },
  {
   "cell_type": "code",
   "execution_count": 71,
   "metadata": {
    "scrolled": true
   },
   "outputs": [
    {
     "name": "stdout",
     "output_type": "stream",
     "text": [
      "max_lambda:  541.4826026332288\n",
      "w_updates  3\n",
      "maximum update  0.0\n",
      "new lambda:  270.7413013166144\n",
      "w_updates  4\n",
      "maximum update  0.01466467181739651\n",
      "w_updates  5\n",
      "maximum update  0.03690295837474994\n",
      "w_updates  6\n",
      "maximum update  0.006697994853228348\n",
      "new lambda:  135.3706506583072\n",
      "w_updates  7\n",
      "maximum update  0.016040840574023014\n",
      "w_updates  8\n",
      "maximum update  0.01844666691932302\n",
      "w_updates  9\n",
      "maximum update  0.008124078784871605\n",
      "new lambda:  67.6853253291536\n",
      "w_updates  10\n",
      "maximum update  0.014934888090977858\n",
      "w_updates  11\n",
      "maximum update  0.008319411633420554\n",
      "new lambda:  33.8426626645768\n",
      "w_updates  12\n",
      "maximum update  0.005769480670990474\n",
      "new lambda:  16.9213313322884\n",
      "w_updates  13\n",
      "maximum update  0.0053353651792986505\n",
      "new lambda:  8.4606656661442\n",
      "w_updates  14\n",
      "maximum update  0.003181788537149493\n",
      "new lambda:  4.2303328330721\n",
      "w_updates  15\n",
      "maximum update  0.0030909891774986223\n",
      "new lambda:  2.11516641653605\n",
      "w_updates  16\n",
      "maximum update  0.0028998645810315964\n",
      "new lambda:  1.057583208268025\n",
      "w_updates  17\n",
      "maximum update  0.0029355471689808087\n",
      "new lambda:  0.5287916041340125\n",
      "w_updates  18\n",
      "maximum update  0.002768569759968212\n",
      "new lambda:  0.26439580206700625\n",
      "w_updates  19\n",
      "maximum update  0.0025459663392158292\n",
      "new lambda:  0.13219790103350312\n",
      "w_updates  20\n",
      "maximum update  0.002297908198763486\n",
      "new lambda:  0.06609895051675156\n",
      "w_updates  21\n",
      "maximum update  0.0020492209379032802\n",
      "new lambda:  0.03304947525837578\n",
      "w_updates  22\n",
      "maximum update  0.001816423464688445\n",
      "new lambda:  0.01652473762918789\n",
      "w_updates  23\n",
      "maximum update  0.0015907506619962583\n",
      "new lambda:  0.008262368814593945\n"
     ]
    }
   ],
   "source": [
    "\n",
    "\n",
    "# TODO: regularization path\n",
    "# it updates values column by column and each time use all data\n",
    "import sys\n",
    "\n",
    "reg_lambda_l = []\n",
    "\n",
    "for k in range(d):\n",
    "    reg_lambda = 2*np.abs(np.sum(train_x[:,k] *(train_y-np.average(train_y))   ,axis=0))\n",
    "    reg_lambda_l.append(reg_lambda)\n",
    "reg_lambda = max(reg_lambda_l)\n",
    "\n",
    "reg_lambda0 = reg_lambda\n",
    "print(\"max_lambda: \", reg_lambda)\n",
    "\n",
    "# initialize lambda\n",
    "num_nonzero_l = []\n",
    "reg_lambda_l = []\n",
    "reg_lambda_l.append(reg_lambda)\n",
    "\n",
    "objective_val_l = []\n",
    "\n",
    "\n",
    "\n",
    "w_updates = [np.zeros(d)] # initialize how much w_updates\n",
    "w = w_updates[0]\n",
    "squared_train_err_l = [np.sum(  (train_x.dot(w) + b - train_y)**2 )/n]\n",
    "squared_test_err_l = [np.sum(  (test_x.dot(w) + b - test_y)**2 )/m]\n",
    "# w_prev = np.zeros(d)\n",
    "b_l = [(1/n)*np.sum( train_y - train_x.dot(w))]\n",
    "\n",
    "solution_weights = [np.zeros(d)]\n",
    "\n",
    "\n",
    "\n",
    "\n",
    "while reg_lambda > 1e-2:  # TODO\n",
    "    max_update = sys.maxsize\n",
    "    # initialize weight with solution of lambda_max\n",
    "    if reg_lambda == reg_lambda0:\n",
    "        w_prev = np.zeros(d)\n",
    "    else:\n",
    "        w_prev = w_updates[1]\n",
    "    w = w_prev\n",
    "    b = b_l[-1]\n",
    "\n",
    "    while max_update >= 0.01: # condition for not converge\n",
    "        # pre-compute a\n",
    "        # as a is fixed and solely depends on X\n",
    "        a = 2*np.sum(train_x**2, axis = 0)  # axis = 0 by default\n",
    "    #     print(a.shape)\n",
    "        for k in range(d):\n",
    "            excluded_train_x = np.delete(train_x, k, axis = 1)\n",
    "            excluded_w = np.delete(w, k)\n",
    "            # calculate the cost\n",
    "            c_k = 2*np.sum(train_x[:,k]*(train_y- (b+ excluded_train_x.dot(excluded_w))  )  )\n",
    "            # update weights\n",
    "            if c_k < -reg_lambda:\n",
    "                w[k]= (c_k+reg_lambda)/a[k]\n",
    "            elif c_k > reg_lambda:\n",
    "                w[k] = (c_k- reg_lambda)/a[k]\n",
    "            else:\n",
    "                w[k] = 0\n",
    "            \n",
    "        # sanity check\n",
    "        obj_val = np.sum(  (train_x.dot(w) + b - train_y)**2 )+ np.sum(reg_lambda * np.absolute(w))\n",
    "        objective_val_l.append(obj_val)\n",
    "        \n",
    "        w_updates.append(np.array(w))  # append the updated w\n",
    "        b = (1/n)*np.sum( train_y - train_x.dot(w))\n",
    "        b_l.append(b)\n",
    "#         print(w_updates)\n",
    "#         print(b_l)\n",
    "        if len(w_updates) > 2:  # TODO: maximum \n",
    "            print(\"w_updates \", len(w_updates))\n",
    "#             print(\"w_update \", w - w_prev)\n",
    "#             print(\"w_update: \", w_updates[-1]-w_updates[-3])\n",
    "            max_update = np.max(w_updates[-1]-w_updates[-2])\n",
    "            print(\"maximum update \",  max_update)\n",
    "            if max_update == 0: # skip zero weight matrix\n",
    "                break\n",
    "        w_prev = w\n",
    "        \n",
    "      \n",
    "    solution_weights.append(w)\n",
    "    # keep track of number of nonzero for each solution\n",
    "    num_nonzero = np.sum(w != 0)\n",
    "    num_nonzero_l.append(num_nonzero)\n",
    "    \n",
    "    \n",
    "    # error record\n",
    "    squared_train_err = np.sum(  (train_x.dot(w) + b - train_y)**2 )/n\n",
    "    squared_train_err_l.append(squared_train_err)\n",
    "    squared_test_err = np.sum(  (test_x.dot(w) + b - test_y)**2 )/m\n",
    "    squared_test_err_l.append(squared_test_err)\n",
    "    \n",
    "    # regularization lambda\n",
    "    reg_lambda = reg_lambda*0.5\n",
    "    reg_lambda_l.append(reg_lambda)\n",
    "    print(\"new lambda: \", reg_lambda)"
   ]
  },
  {
   "cell_type": "code",
   "execution_count": 23,
   "metadata": {},
   "outputs": [
    {
     "name": "stdout",
     "output_type": "stream",
     "text": [
      "number of wrong optimization:  0\n",
      "[1600.8878999999656, 1600.887899435737, 1200.6659247178684, 1200.6659245768024, 700.3884560384013, 700.3884560031347, 375.2081014390674, 375.2081014302508, 193.8575190745004, 193.85751907229624, 98.49212662599187, 98.49212662544083, 49.636905085181354, 49.636905085043594, 24.91616298563703, 12.482509103580105, 6.247361454480449, 3.1252074529128238, 1.562985407874562, 0.7815881242918182, 0.39081791723454357, 0.19541492238943034, 0.09770895213775484]\n"
     ]
    }
   ],
   "source": [
    "# sanity check continue\n",
    "count = 0\n",
    "for i in range(1,len(objective_val_l)):\n",
    "    if objective_val_l[i-1] < objective_val_l[i]:\n",
    "        count += 1\n",
    "print(\"number of wrong optimization: \" , count)\n",
    "print(objective_val_l)"
   ]
  },
  {
   "cell_type": "code",
   "execution_count": 34,
   "metadata": {},
   "outputs": [
    {
     "data": {
      "image/png": "[encoded data removed]",
      "text/plain": [
       "<Figure size 432x288 with 1 Axes>"
      ]
     },
     "metadata": {
      "needs_background": "light"
     },
     "output_type": "display_data"
    }
   ],
   "source": [
    "from matplotlib import pyplot as plt\n",
    "reg_lambda_0 = max(reg_lambda_l)\n",
    "\n",
    "plt.plot(reg_lambda_l[:-1], num_nonzero_l)\n",
    "plt.xscale(\"log\")\n",
    "plt.xlim(reg_lambda_0, 1e-2) \n",
    "plt.xlabel(\"reg_lambda\")\n",
    "plt.ylabel(\"number of nonzero\")\n",
    "plt.savefig(\"A5a\")\n",
    "plt.show()"
   ]
  },
  {
   "cell_type": "code",
   "execution_count": 79,
   "metadata": {},
   "outputs": [
    {
     "data": {
      "image/png": "[encoded data removed]",
      "text/plain": [
       "<Figure size 432x288 with 1 Axes>"
      ]
     },
     "metadata": {
      "needs_background": "light"
     },
     "output_type": "display_data"
    }
   ],
   "source": [
    "def get_feature_weight_update(ws, feature, var_d):\n",
    "    feature_updates = [w[var_d[feature]] for w in ws]\n",
    "    return feature_updates\n",
    "    \n",
    "var_d[\"agePct12t29\"]\n",
    "\n",
    "var_query = [\"agePct12t29\", \"pctWSocSec\", \"pctUrban\", \"agePct65up\",\"householdsize\"]\n",
    "\n",
    "feature1_updates = get_feature_weight_update(solution_weights, var_query[0], var_d)\n",
    "feature2_updates = get_feature_weight_update(solution_weights, var_query[1], var_d)\n",
    "feature3_updates = get_feature_weight_update(solution_weights, var_query[2], var_d)\n",
    "feature4_updates = get_feature_weight_update(solution_weights, var_query[3], var_d)\n",
    "feature5_updates = get_feature_weight_update(solution_weights, var_query[4], var_d)\n",
    "plt.plot(reg_lambda_l, feature1_updates, label = \"agePct12t29\")\n",
    "plt.plot(reg_lambda_l, feature2_updates, label = \"pctWSocSec\")\n",
    "plt.plot(reg_lambda_l, feature3_updates, label = \"pctUrban\")\n",
    "plt.plot(reg_lambda_l, feature4_updates, label = \"agePct65up\")\n",
    "plt.plot(reg_lambda_l, feature5_updates, label = \"householdsize\")\n",
    "plt.xlabel(\"lambda\")\n",
    "plt.ylabel(\"feature weights\")\n",
    "plt.xlim(reg_lambda_l[0], reg_lambda_l[-1])\n",
    "plt.xscale(\"log\")\n",
    "plt.legend()\n",
    "plt.savefig(\"A5b\")\n",
    "plt.show()"
   ]
  },
  {
   "cell_type": "code",
   "execution_count": 77,
   "metadata": {},
   "outputs": [
    {
     "data": {
      "image/png": "[encoded data removed]",
      "text/plain": [
       "<Figure size 432x288 with 1 Axes>"
      ]
     },
     "metadata": {
      "needs_background": "light"
     },
     "output_type": "display_data"
    }
   ],
   "source": [
    "\n",
    "plt.plot(reg_lambda_l[1:], squared_train_err_l[1:], label = \"train\")\n",
    "plt.plot(reg_lambda_l[1:], squared_test_err_l[1:], label = \"test\")\n",
    "plt.xlim(reg_lambda_l[0], reg_lambda_l[-1]) # flip x axis\n",
    "plt.xlabel(\"lambda\")\n",
    "plt.ylabel(\"squared error\")\n",
    "plt.xscale(\"log\")\n",
    "plt.legend()\n",
    "plt.savefig(\"A5c\")\n",
    "plt.show()"
   ]
  }
 ],
 "metadata": {
  "kernelspec": {
   "display_name": "Python 3",
   "language": "python",
   "name": "python3"
  },
  "language_info": {
   "codemirror_mode": {
    "name": "ipython",
    "version": 3
   },
   "file_extension": ".py",
   "mimetype": "text/x-python",
   "name": "python",
   "nbconvert_exporter": "python",
   "pygments_lexer": "ipython3",
   "version": "3.7.6"
  }
 },
 "nbformat": 4,
 "nbformat_minor": 4
}
