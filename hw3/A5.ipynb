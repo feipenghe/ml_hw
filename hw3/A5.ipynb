{
 "cells": [
  {
   "cell_type": "code",
   "execution_count": 4,
   "metadata": {},
   "outputs": [],
   "source": [
    "from mnist import MNIST\n",
    "import numpy as np\n",
    "import matplotlib.pyplot as plt\n",
    "def load_dataset():\n",
    "    mndata = MNIST(\"../python-mnist/data/\")\n",
    "    X_train, labels_train = map(np.array, mndata.load_training())\n",
    "    X_test, labels_test = map(np.array, mndata.load_testing())\n",
    "    X_train = X_train/255.0\n",
    "    X_test = X_test/255.0\n",
    "    return X_train, labels_train, X_test, labels_test"
   ]
  },
  {
   "cell_type": "code",
   "execution_count": 5,
   "metadata": {},
   "outputs": [],
   "source": [
    "X_train, labels_train, X_test, labels_test = load_dataset()\n"
   ]
  },
  {
   "cell_type": "code",
   "execution_count": null,
   "metadata": {},
   "outputs": [],
   "source": [
    "# we create tensors in a similar way to numpy nd arrays\n",
    "x_numpy = np.array([0.1, 0.2, 0.3])\n",
    "x_torch = torch.tensor([0.1, 0.2, 0.3])\n",
    "print('x_numpy, x_torch')\n",
    "print(x_numpy, x_torch)\n",
    "print()\n",
    "\n",
    "# to and from numpy, pytorch\n",
    "print('to and from numpy and pytorch')\n",
    "print(torch.from_numpy(x_numpy), x_torch.numpy())\n",
    "print()\n",
    "\n",
    "# we can do basic operations like +-*/\n",
    "y_numpy = np.array([3,4,5.])\n",
    "y_torch = torch.tensor([3,4,5.])\n",
    "print(\"x+y\")\n",
    "print(x_numpy + y_numpy, x_torch + y_torch)\n",
    "print()\n",
    "\n",
    "# many functions that are in numpy are also in pytorch\n",
    "print(\"norm\")\n",
    "print(np.linalg.norm(x_numpy), torch.norm(x_torch))\n",
    "print()\n",
    "\n",
    "# to apply an operation along a dimension,\n",
    "# we use the dim keyword argument instead of axis\n",
    "print(\"mean along the 0th dimension\")\n",
    "x_numpy = np.array([[1,2],[3,4.]])\n",
    "x_torch = torch.tensor([[1,2],[3,4.]])\n",
    "print(np.mean(x_numpy, axis=0), torch.mean(x_torch, dim=0))"
   ]
  },
  {
   "cell_type": "code",
   "execution_count": 7,
   "metadata": {
    "scrolled": false
   },
   "outputs": [
    {
     "name": "stdout",
     "output_type": "stream",
     "text": [
      "784\n"
     ]
    }
   ],
   "source": [
    "\n",
    "print(d)"
   ]
  },
  {
   "cell_type": "code",
   "execution_count": 31,
   "metadata": {},
   "outputs": [
    {
     "data": {
      "text/plain": [
       "tensor(0.9487)"
      ]
     },
     "execution_count": 31,
     "metadata": {},
     "output_type": "execute_result"
    }
   ],
   "source": [
    "distr = torch.distributions.uniform.Uniform(0, 1)\n",
    "distr.sample()"
   ]
  },
  {
   "cell_type": "code",
   "execution_count": 34,
   "metadata": {},
   "outputs": [
    {
     "name": "stdout",
     "output_type": "stream",
     "text": [
      "tensor([[0.3610, 0.5451, 0.1423, 0.7217, 0.8613],\n",
      "        [0.9846, 0.9773, 0.5046, 0.0749, 0.9598],\n",
      "        [0.0325, 0.5647, 0.2958, 0.8521, 0.7826]])\n",
      "tensor([[0.3610, 0.5451, 0.1423, 0.7217, 0.8613],\n",
      "        [0.9846, 0.9773, 0.5046, 0.0749, 0.9598],\n",
      "        [0.0325, 0.5647, 0.2958, 0.8521, 0.7826]])\n"
     ]
    }
   ],
   "source": [
    "w = torch.empty(3, 5)\n",
    "print(nn.init.uniform_(w))\n",
    "print(w)"
   ]
  },
  {
   "cell_type": "code",
   "execution_count": 47,
   "metadata": {
    "scrolled": true
   },
   "outputs": [
    {
     "data": {
      "text/plain": [
       "tensor([[1.1008, 1.1773, 0.5578, 0.3620, 1.2814],\n",
       "        [1.1773, 1.5711, 0.7378, 0.9478, 1.8494],\n",
       "        [0.5578, 0.7378, 0.3624, 0.3926, 0.8384],\n",
       "        [0.3620, 0.9478, 0.3926, 1.2525, 1.3603],\n",
       "        [1.2814, 1.8494, 0.8384, 1.3603, 2.2755]])"
      ]
     },
     "execution_count": 47,
     "metadata": {},
     "output_type": "execute_result"
    }
   ],
   "source": [
    "torch.mm(w.T,w)"
   ]
  },
  {
   "cell_type": "code",
   "execution_count": 105,
   "metadata": {},
   "outputs": [
    {
     "name": "stdout",
     "output_type": "stream",
     "text": [
      "<class 'generator'>\n"
     ]
    },
    {
     "data": {
      "text/plain": [
       "[Parameter containing:\n",
       " tensor([[ 0.0111,  0.0304,  0.0304,  ..., -0.0047, -0.0325,  0.0199],\n",
       "         [ 0.0357,  0.0127, -0.0140,  ...,  0.0108, -0.0086, -0.0116]],\n",
       "        requires_grad=True),\n",
       " Parameter containing:\n",
       " tensor([-0.0334, -0.0058], requires_grad=True)]"
      ]
     },
     "execution_count": 105,
     "metadata": {},
     "output_type": "execute_result"
    }
   ],
   "source": [
    "W0 = nn.Linear(28 * 28, 2)\n",
    "\n",
    "print(type(W0.parameters()))\n",
    "list(W0.parameters())\n"
   ]
  },
  {
   "cell_type": "code",
   "execution_count": 145,
   "metadata": {},
   "outputs": [
    {
     "name": "stdout",
     "output_type": "stream",
     "text": [
      "aa\n",
      "CPU times: user 76 µs, sys: 16 µs, total: 92 µs\n",
      "Wall time: 77.2 µs\n"
     ]
    }
   ],
   "source": [
    "%%time\n",
    "print(\"aa\")"
   ]
  },
  {
   "cell_type": "code",
   "execution_count": 147,
   "metadata": {},
   "outputs": [
    {
     "data": {
      "image/png": "[encoded data removed]",
      "text/plain": [
       "<Figure size 432x288 with 1 Axes>"
      ]
     },
     "metadata": {
      "needs_background": "light"
     },
     "output_type": "display_data"
    },
    {
     "name": "stdout",
     "output_type": "stream",
     "text": [
      "Total number of parameters in wide, shallow net:  50890\n",
      "Test accuracy:  0.9682\n",
      "Time takes:  3.9502110260000336\n"
     ]
    },
    {
     "data": {
      "image/png": "[encoded data removed]",
      "text/plain": [
       "<Figure size 432x288 with 1 Axes>"
      ]
     },
     "metadata": {
      "needs_background": "light"
     },
     "output_type": "display_data"
    },
    {
     "name": "stdout",
     "output_type": "stream",
     "text": [
      "Total number of parameters in narrow, deep net:  26506\n",
      "Test accuracy:  0.9633\n",
      "Time takes:  3.408320251999612\n"
     ]
    }
   ],
   "source": [
    "import torch\n",
    "import torch.nn as nn\n",
    "import torch.nn.functional as F\n",
    "from torch.autograd import Variable\n",
    "import math\n",
    "from matplotlib import pyplot as plt\n",
    "import timeit\n",
    "\n",
    "class shallow_n_wide(nn.Module):\n",
    "    \n",
    "    def __init__(self):\n",
    "        super(shallow_n_wide, self).__init__()\n",
    "        h = 64\n",
    "        d = 28 * 28\n",
    "        \n",
    "        alpha_fn = lambda m:1/math.sqrt(m) # weight dimension n x m\n",
    "        alpha1 = alpha_fn(d)\n",
    "        alpha2 = alpha_fn(h)\n",
    "        self.W0 = Variable(torch.FloatTensor(h, d).uniform_(-alpha1, alpha1).cuda(), requires_grad = True)\n",
    "        self.bias0 = Variable(torch.FloatTensor(h).uniform_(-alpha1, alpha1).cuda(),requires_grad = True)        \n",
    "        self.W1 = Variable(torch.FloatTensor(10, h).uniform_(-alpha2, alpha2).cuda(), requires_grad = True)\n",
    "        self.bias1 = Variable(torch.FloatTensor(10).uniform_(-alpha2, alpha2).cuda(), requires_grad = True)\n",
    "\n",
    "    def forward(self, x):\n",
    "        x_pass1 = F.relu(torch.mm(x, self.W0.T) + self.bias0 )\n",
    "        x_pass2 = torch.mm(x_pass1, self.W1.T) + self.bias1\n",
    "        return x_pass2\n",
    "    \n",
    "    def get_parameters(self):\n",
    "        return [self.W0, self.bias0, self.W1, self.bias1]\n",
    "class narrow_n_deep(nn.Module):\n",
    "    \n",
    "    def __init__(self):\n",
    "        \n",
    "        super(narrow_n_deep, self).__init__()\n",
    "        h0 = 32\n",
    "        h1 = 32\n",
    "        \n",
    "        d = 28*28\n",
    "        alpha_fn = lambda m:1/math.sqrt(m) # weight dimension n x m\n",
    "        alpha1 = alpha_fn(d)\n",
    "        alpha2 = alpha_fn(h0)\n",
    "        alpha3 = alpha_fn(h1)\n",
    "        self.W0 = Variable(torch.FloatTensor(h0, d).uniform_(-alpha1, alpha1).cuda(), requires_grad = True)\n",
    "        self.bias0 = Variable(torch.FloatTensor(h0).uniform_(-alpha1, alpha1).cuda(),requires_grad = True)        \n",
    "        self.W1 = Variable(torch.FloatTensor(h1, h0).uniform_(-alpha2, alpha2).cuda(), requires_grad = True)\n",
    "        self.bias1 = Variable(torch.FloatTensor(h1).uniform_(-alpha2, alpha2).cuda(), requires_grad = True)\n",
    "        self.W2 = Variable(torch.FloatTensor(10, h1).uniform_(-alpha3, alpha3).cuda(), requires_grad = True)\n",
    "        self.bias2 = Variable(torch.FloatTensor(10).uniform_(-alpha3, alpha3).cuda(), requires_grad = True)\n",
    "        \n",
    "        \n",
    "    def forward(self, x):\n",
    "        x_pass1 = F.relu(torch.mm(x, self.W0.T)  +self.bias0 )\n",
    "        x_pass2 = F.relu(torch.mm(x_pass1, self.W1.T) + self.bias1)\n",
    "        x_pass3 = torch.mm(x_pass2, self.W2.T) + self.bias2\n",
    "        return x_pass3\n",
    "    \n",
    "    \n",
    "    def get_parameters(self):\n",
    "        return [self.W0, self.bias0, self.W1, self.bias1, self.W2, self.bias2]\n",
    "        \n",
    "\n",
    "def get_num_parameters(ps):\n",
    "    count = 0\n",
    "    for p in ps:\n",
    "        t = p.size()\n",
    "        count_in_p = 1\n",
    "        for i in t:\n",
    "            count_in_p *= i\n",
    "        count+= count_in_p\n",
    "    return count\n",
    "        \n",
    "# data preparation \n",
    "X_train_t = torch.from_numpy(X_train).float().cuda()\n",
    "labels_train_t = torch.from_numpy(labels_train).long().cuda()\n",
    "X_test_t = torch.from_numpy(X_test).float().cuda()\n",
    "labels_test_t = torch.from_numpy(labels_test).float().cuda()\n",
    "\n",
    "\n",
    "\n",
    "n, d = X_train.shape\n",
    "m, _ = X_test_t.shape\n",
    "\n",
    "\n",
    "\n",
    "\n",
    "\n",
    "\n",
    "\n",
    "# gradient descent\n",
    "accuracy = 0\n",
    "acc_l = []\n",
    "\n",
    "count = 0\n",
    "\n",
    "\n",
    "# first net\n",
    "start = timeit.default_timer()\n",
    "with torch.cuda.device(0):\n",
    "    net1 = shallow_n_wide()\n",
    "    net1.zero_grad()\n",
    "    optim = torch.optim.Adam(net1.get_parameters()) # optimizer hold the current state and upate the parameters based on compted graidents\n",
    "\n",
    "    while accuracy < 0.99:\n",
    "        out = net1(X_train_t)\n",
    "        predictions = torch.argmax(out, axis = 1)\n",
    "\n",
    "        accuracy = torch.sum(predictions == labels_train_t).item()/n\n",
    "        loss = F.cross_entropy(out, labels_train_t)\n",
    "        optim.zero_grad() # init gradients each loop\n",
    "        loss.backward()\n",
    "        optim.step() # update parameters w, b\n",
    "        acc_l.append(accuracy)\n",
    "time = timeit.default_timer() - start\n",
    "plt.plot(range(len(acc_l)), acc_l   )\n",
    "plt.savefig(\"A5a\")\n",
    "plt.show()\n",
    "\n",
    "test_accuracy1 = torch.sum(torch.argmax(net1(X_test_t), axis = 1) == labels_test_t).item()/m\n",
    "\n",
    "print(\"Total number of parameters in wide, shallow net: \", get_num_parameters(net1.get_parameters()))\n",
    "print(\"Test accuracy: \", test_accuracy1)\n",
    "print(\"Time takes: \" , time)\n",
    "\n",
    "# gradient descent\n",
    "accuracy = 0\n",
    "acc_l = []\n",
    "\n",
    "count = 0\n",
    "\n",
    "# second net\n",
    "start = timeit.default_timer()\n",
    "with torch.cuda.device(0):\n",
    "    net2 = narrow_n_deep()\n",
    "    net2.zero_grad()\n",
    "    optim = torch.optim.Adam(net2.get_parameters()) # optimizer hold the current state and upate the parameters based on compted graidents\n",
    "\n",
    "    while accuracy < 0.99:\n",
    "        out = net2(X_train_t)\n",
    "        predictions = torch.argmax(out, axis = 1)\n",
    "\n",
    "        accuracy = torch.sum(predictions == labels_train_t).item()/n\n",
    "        loss = F.cross_entropy(out, labels_train_t)\n",
    "        optim.zero_grad() # init gradients each loop\n",
    "        loss.backward()\n",
    "        optim.step() # update parameters w, b\n",
    "        acc_l.append(accuracy)\n",
    "time = timeit.default_timer() - start\n",
    "test_accuracy2 = torch.sum(torch.argmax(net2(X_test_t), axis = 1) == labels_test_t).item()/m\n",
    "\n",
    "plt.plot(range(len(acc_l)), acc_l   )\n",
    "plt.savefig(\"A5b\")\n",
    "plt.show()\n",
    "print(\"Total number of parameters in narrow, deep net: \", get_num_parameters(net2.get_parameters()))\n",
    "print(\"Test accuracy: \", test_accuracy2)\n",
    "print(\"Time takes: \" , time)"
   ]
  },
  {
   "cell_type": "code",
   "execution_count": null,
   "outputs": [],
   "source": [
    "\n"
   ],
   "metadata": {
    "collapsed": false,
    "pycharm": {
     "name": "#%%\n"
    }
   }
  }
 ],
 "metadata": {
  "kernelspec": {
   "display_name": "Python 3",
   "language": "python",
   "name": "python3"
  },
  "language_info": {
   "codemirror_mode": {
    "name": "ipython",
    "version": 3
   },
   "file_extension": ".py",
   "mimetype": "text/x-python",
   "name": "python",
   "nbconvert_exporter": "python",
   "pygments_lexer": "ipython3",
   "version": "3.7.6"
  }
 },
 "nbformat": 4,
 "nbformat_minor": 4
}