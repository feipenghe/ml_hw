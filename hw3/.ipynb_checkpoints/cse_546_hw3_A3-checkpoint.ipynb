{
 "cells": [
  {
   "cell_type": "code",
   "execution_count": 0,
   "metadata": {
    "colab": {},
    "colab_type": "code",
    "id": "SsRpp9YxGrVP"
   },
   "outputs": [],
   "source": [
    "import numpy as np\n",
    "import matplotlib.pyplot as plt"
   ]
  },
  {
   "cell_type": "code",
   "execution_count": 0,
   "metadata": {
    "colab": {},
    "colab_type": "code",
    "id": "mv3Sl_vvHm5k"
   },
   "outputs": [],
   "source": [
    "def F(x):\n",
    "  return 4 * np.sin(np.pi * x) * np.cos(6 * np.pi * x ** 2)\n",
    "\n",
    "def gen_data(F, n=30):\n",
    "  x = np.random.uniform(size=(n, 1))\n",
    "  y = F(x) + np.random.normal(size=(n, 1))\n",
    "  return x, y"
   ]
  },
  {
   "cell_type": "code",
   "execution_count": 0,
   "metadata": {
    "colab": {},
    "colab_type": "code",
    "id": "kuEXe8enIOTZ"
   },
   "outputs": [],
   "source": [
    "def gen_k_poly(d=2):\n",
    "  def k_poly(x, z):\n",
    "    return (1 + np.dot(x, z)) ** d\n",
    "  return k_poly\n",
    "\n",
    "def gen_k_rbf(gamma=0.1):\n",
    "  def k_rbf(x, z):\n",
    "    return np.exp(-gamma * np.linalg.norm(x - z) ** 2)\n",
    "  return k_rbf"
   ]
  },
  {
   "cell_type": "code",
   "execution_count": 0,
   "metadata": {
    "colab": {},
    "colab_type": "code",
    "id": "WnBlul91Ngug"
   },
   "outputs": [],
   "source": [
    "def LOO_cross_val(x, y, k_fn, l_reg=0.1):\n",
    "  n, d = np.shape(x)\n",
    "  K = np.zeros((n, n))\n",
    "  for i in range(n):\n",
    "    for j in range(n):\n",
    "      K[i, j] = k_fn(x[i, :], x[j, :])\n",
    "\n",
    "  y_pred = np.zeros((n, 1))\n",
    "  for i in range(n):\n",
    "    out_x, out_y = x[i, :], y[i]\n",
    "    cur_idxs = [j for j in range(n) if j != i]\n",
    "    cur_x, cur_y = x[cur_idxs, :], y[cur_idxs]\n",
    "    cur_n, d = np.shape(cur_x)\n",
    "    cur_K = K[cur_idxs, cur_idxs]\n",
    "    I = np.eye(cur_n)\n",
    "    alpha = np.linalg.pinv(cur_K + l_reg * I) @ cur_y\n",
    "\n",
    "    expanded_out_x = K[i, cur_idxs]\n",
    "    y_pred[i, 0] = np.dot(alpha[:,0], expanded_out_x)\n",
    "  return y_pred"
   ]
  },
  {
   "cell_type": "code",
   "execution_count": 62,
   "metadata": {
    "colab": {
     "base_uri": "https://localhost:8080/",
     "height": 265
    },
    "colab_type": "code",
    "id": "4Uc8DPiFTc5x",
    "outputId": "e9be5cea-474f-479d-9586-3dca7fc522c7"
   },
   "outputs": [
    {
     "data": {
      "image/png": "[encoded data removed]",
      "text/plain": [
       "<Figure size 432x288 with 1 Axes>"
      ]
     },
     "metadata": {
      "needs_background": "light",
      "tags": []
     },
     "output_type": "display_data"
    }
   ],
   "source": [
    "for i in range(1):\n",
    "  x, y = gen_data(F)\n",
    "  y_pred = LOO_cross_val(x, y, gen_k_poly(d=5), l_reg=10)\n",
    "  plt.scatter(list(x), list(y))\n",
    "  plt.scatter(list(x), list(y_pred))\n",
    "  plt.legend(['true', 'pred'])\n",
    "  plt.show()"
   ]
  }
 ],
 "metadata": {
  "colab": {
   "name": "cse-546-hw3-A3.ipynb",
   "provenance": []
  },
  "kernelspec": {
   "display_name": "Python 3",
   "language": "python",
   "name": "python3"
  },
  "language_info": {
   "codemirror_mode": {
    "name": "ipython",
    "version": 3
   },
   "file_extension": ".py",
   "mimetype": "text/x-python",
   "name": "python",
   "nbconvert_exporter": "python",
   "pygments_lexer": "ipython3",
   "version": "3.7.6"
  }
 },
 "nbformat": 4,
 "nbformat_minor": 1
}
