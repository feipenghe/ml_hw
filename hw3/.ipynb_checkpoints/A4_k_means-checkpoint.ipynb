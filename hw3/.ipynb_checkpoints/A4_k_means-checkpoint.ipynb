{
 "cells": [
  {
   "cell_type": "code",
   "execution_count": 2,
   "metadata": {},
   "outputs": [],
   "source": [
    "from mnist import MNIST\n",
    "import numpy as np\n",
    "import matplotlib.pyplot as plt\n",
    "def load_dataset():\n",
    "    mndata = MNIST(\"../python-mnist/data/\")\n",
    "    X_train, labels_train = map(np.array, mndata.load_training())\n",
    "    X_test, labels_test = map(np.array, mndata.load_testing())\n",
    "    X_train = X_train/255.0\n",
    "    X_test = X_test/255.0\n",
    "    return X_train, labels_train, X_test, labels_test"
   ]
  },
  {
   "cell_type": "code",
   "execution_count": 3,
   "metadata": {},
   "outputs": [],
   "source": [
    "X_train, labels_train, X_test, _ = load_dataset()"
   ]
  },
  {
   "cell_type": "code",
   "execution_count": 5,
   "metadata": {},
   "outputs": [
    {
     "data": {
      "text/plain": [
       "array([0.        , 0.        , 0.        , 0.        , 0.        ,\n",
       "       0.        , 0.        , 0.        , 0.        , 0.        ,\n",
       "       0.        , 0.        , 0.        , 0.        , 0.        ,\n",
       "       0.        , 0.        , 0.        , 0.        , 0.        ,\n",
       "       0.        , 0.        , 0.        , 0.        , 0.        ,\n",
       "       0.        , 0.        , 0.        , 0.        , 0.        ,\n",
       "       0.        , 0.        , 0.        , 0.        , 0.        ,\n",
       "       0.        , 0.        , 0.        , 0.        , 0.        ,\n",
       "       0.        , 0.        , 0.        , 0.        , 0.        ,\n",
       "       0.        , 0.        , 0.        , 0.        , 0.        ,\n",
       "       0.        , 0.        , 0.        , 0.        , 0.        ,\n",
       "       0.        , 0.        , 0.        , 0.        , 0.        ,\n",
       "       0.        , 0.        , 0.        , 0.        , 0.        ,\n",
       "       0.        , 0.        , 0.        , 0.        , 0.        ,\n",
       "       0.        , 0.        , 0.        , 0.        , 0.        ,\n",
       "       0.        , 0.        , 0.        , 0.        , 0.        ,\n",
       "       0.        , 0.        , 0.        , 0.        , 0.        ,\n",
       "       0.        , 0.        , 0.        , 0.        , 0.        ,\n",
       "       0.        , 0.        , 0.        , 0.        , 0.        ,\n",
       "       0.        , 0.        , 0.        , 0.        , 0.        ,\n",
       "       0.        , 0.        , 0.        , 0.        , 0.        ,\n",
       "       0.        , 0.        , 0.        , 0.        , 0.        ,\n",
       "       0.        , 0.        , 0.        , 0.        , 0.        ,\n",
       "       0.        , 0.        , 0.        , 0.        , 0.        ,\n",
       "       0.        , 0.        , 0.        , 0.        , 0.        ,\n",
       "       0.        , 0.        , 0.        , 0.        , 0.        ,\n",
       "       0.        , 0.        , 0.        , 0.        , 0.        ,\n",
       "       0.        , 0.        , 0.        , 0.        , 0.        ,\n",
       "       0.        , 0.        , 0.        , 0.        , 0.        ,\n",
       "       0.        , 0.        , 0.        , 0.        , 0.        ,\n",
       "       0.        , 0.        , 0.01176471, 0.07058824, 0.07058824,\n",
       "       0.07058824, 0.49411765, 0.53333333, 0.68627451, 0.10196078,\n",
       "       0.65098039, 1.        , 0.96862745, 0.49803922, 0.        ,\n",
       "       0.        , 0.        , 0.        , 0.        , 0.        ,\n",
       "       0.        , 0.        , 0.        , 0.        , 0.        ,\n",
       "       0.        , 0.11764706, 0.14117647, 0.36862745, 0.60392157,\n",
       "       0.66666667, 0.99215686, 0.99215686, 0.99215686, 0.99215686,\n",
       "       0.99215686, 0.88235294, 0.6745098 , 0.99215686, 0.94901961,\n",
       "       0.76470588, 0.25098039, 0.        , 0.        , 0.        ,\n",
       "       0.        , 0.        , 0.        , 0.        , 0.        ,\n",
       "       0.        , 0.        , 0.        , 0.19215686, 0.93333333,\n",
       "       0.99215686, 0.99215686, 0.99215686, 0.99215686, 0.99215686,\n",
       "       0.99215686, 0.99215686, 0.99215686, 0.98431373, 0.36470588,\n",
       "       0.32156863, 0.32156863, 0.21960784, 0.15294118, 0.        ,\n",
       "       0.        , 0.        , 0.        , 0.        , 0.        ,\n",
       "       0.        , 0.        , 0.        , 0.        , 0.        ,\n",
       "       0.        , 0.07058824, 0.85882353, 0.99215686, 0.99215686,\n",
       "       0.99215686, 0.99215686, 0.99215686, 0.77647059, 0.71372549,\n",
       "       0.96862745, 0.94509804, 0.        , 0.        , 0.        ,\n",
       "       0.        , 0.        , 0.        , 0.        , 0.        ,\n",
       "       0.        , 0.        , 0.        , 0.        , 0.        ,\n",
       "       0.        , 0.        , 0.        , 0.        , 0.        ,\n",
       "       0.31372549, 0.61176471, 0.41960784, 0.99215686, 0.99215686,\n",
       "       0.80392157, 0.04313725, 0.        , 0.16862745, 0.60392157,\n",
       "       0.        , 0.        , 0.        , 0.        , 0.        ,\n",
       "       0.        , 0.        , 0.        , 0.        , 0.        ,\n",
       "       0.        , 0.        , 0.        , 0.        , 0.        ,\n",
       "       0.        , 0.        , 0.        , 0.        , 0.05490196,\n",
       "       0.00392157, 0.60392157, 0.99215686, 0.35294118, 0.        ,\n",
       "       0.        , 0.        , 0.        , 0.        , 0.        ,\n",
       "       0.        , 0.        , 0.        , 0.        , 0.        ,\n",
       "       0.        , 0.        , 0.        , 0.        , 0.        ,\n",
       "       0.        , 0.        , 0.        , 0.        , 0.        ,\n",
       "       0.        , 0.        , 0.        , 0.        , 0.54509804,\n",
       "       0.99215686, 0.74509804, 0.00784314, 0.        , 0.        ,\n",
       "       0.        , 0.        , 0.        , 0.        , 0.        ,\n",
       "       0.        , 0.        , 0.        , 0.        , 0.        ,\n",
       "       0.        , 0.        , 0.        , 0.        , 0.        ,\n",
       "       0.        , 0.        , 0.        , 0.        , 0.        ,\n",
       "       0.        , 0.        , 0.04313725, 0.74509804, 0.99215686,\n",
       "       0.2745098 , 0.        , 0.        , 0.        , 0.        ,\n",
       "       0.        , 0.        , 0.        , 0.        , 0.        ,\n",
       "       0.        , 0.        , 0.        , 0.        , 0.        ,\n",
       "       0.        , 0.        , 0.        , 0.        , 0.        ,\n",
       "       0.        , 0.        , 0.        , 0.        , 0.        ,\n",
       "       0.        , 0.1372549 , 0.94509804, 0.88235294, 0.62745098,\n",
       "       0.42352941, 0.00392157, 0.        , 0.        , 0.        ,\n",
       "       0.        , 0.        , 0.        , 0.        , 0.        ,\n",
       "       0.        , 0.        , 0.        , 0.        , 0.        ,\n",
       "       0.        , 0.        , 0.        , 0.        , 0.        ,\n",
       "       0.        , 0.        , 0.        , 0.        , 0.        ,\n",
       "       0.31764706, 0.94117647, 0.99215686, 0.99215686, 0.46666667,\n",
       "       0.09803922, 0.        , 0.        , 0.        , 0.        ,\n",
       "       0.        , 0.        , 0.        , 0.        , 0.        ,\n",
       "       0.        , 0.        , 0.        , 0.        , 0.        ,\n",
       "       0.        , 0.        , 0.        , 0.        , 0.        ,\n",
       "       0.        , 0.        , 0.        , 0.        , 0.17647059,\n",
       "       0.72941176, 0.99215686, 0.99215686, 0.58823529, 0.10588235,\n",
       "       0.        , 0.        , 0.        , 0.        , 0.        ,\n",
       "       0.        , 0.        , 0.        , 0.        , 0.        ,\n",
       "       0.        , 0.        , 0.        , 0.        , 0.        ,\n",
       "       0.        , 0.        , 0.        , 0.        , 0.        ,\n",
       "       0.        , 0.        , 0.        , 0.0627451 , 0.36470588,\n",
       "       0.98823529, 0.99215686, 0.73333333, 0.        , 0.        ,\n",
       "       0.        , 0.        , 0.        , 0.        , 0.        ,\n",
       "       0.        , 0.        , 0.        , 0.        , 0.        ,\n",
       "       0.        , 0.        , 0.        , 0.        , 0.        ,\n",
       "       0.        , 0.        , 0.        , 0.        , 0.        ,\n",
       "       0.        , 0.        , 0.        , 0.97647059, 0.99215686,\n",
       "       0.97647059, 0.25098039, 0.        , 0.        , 0.        ,\n",
       "       0.        , 0.        , 0.        , 0.        , 0.        ,\n",
       "       0.        , 0.        , 0.        , 0.        , 0.        ,\n",
       "       0.        , 0.        , 0.        , 0.        , 0.        ,\n",
       "       0.        , 0.        , 0.        , 0.18039216, 0.50980392,\n",
       "       0.71764706, 0.99215686, 0.99215686, 0.81176471, 0.00784314,\n",
       "       0.        , 0.        , 0.        , 0.        , 0.        ,\n",
       "       0.        , 0.        , 0.        , 0.        , 0.        ,\n",
       "       0.        , 0.        , 0.        , 0.        , 0.        ,\n",
       "       0.        , 0.        , 0.        , 0.        , 0.15294118,\n",
       "       0.58039216, 0.89803922, 0.99215686, 0.99215686, 0.99215686,\n",
       "       0.98039216, 0.71372549, 0.        , 0.        , 0.        ,\n",
       "       0.        , 0.        , 0.        , 0.        , 0.        ,\n",
       "       0.        , 0.        , 0.        , 0.        , 0.        ,\n",
       "       0.        , 0.        , 0.        , 0.        , 0.        ,\n",
       "       0.09411765, 0.44705882, 0.86666667, 0.99215686, 0.99215686,\n",
       "       0.99215686, 0.99215686, 0.78823529, 0.30588235, 0.        ,\n",
       "       0.        , 0.        , 0.        , 0.        , 0.        ,\n",
       "       0.        , 0.        , 0.        , 0.        , 0.        ,\n",
       "       0.        , 0.        , 0.        , 0.        , 0.        ,\n",
       "       0.        , 0.09019608, 0.25882353, 0.83529412, 0.99215686,\n",
       "       0.99215686, 0.99215686, 0.99215686, 0.77647059, 0.31764706,\n",
       "       0.00784314, 0.        , 0.        , 0.        , 0.        ,\n",
       "       0.        , 0.        , 0.        , 0.        , 0.        ,\n",
       "       0.        , 0.        , 0.        , 0.        , 0.        ,\n",
       "       0.        , 0.        , 0.07058824, 0.67058824, 0.85882353,\n",
       "       0.99215686, 0.99215686, 0.99215686, 0.99215686, 0.76470588,\n",
       "       0.31372549, 0.03529412, 0.        , 0.        , 0.        ,\n",
       "       0.        , 0.        , 0.        , 0.        , 0.        ,\n",
       "       0.        , 0.        , 0.        , 0.        , 0.        ,\n",
       "       0.        , 0.        , 0.        , 0.21568627, 0.6745098 ,\n",
       "       0.88627451, 0.99215686, 0.99215686, 0.99215686, 0.99215686,\n",
       "       0.95686275, 0.52156863, 0.04313725, 0.        , 0.        ,\n",
       "       0.        , 0.        , 0.        , 0.        , 0.        ,\n",
       "       0.        , 0.        , 0.        , 0.        , 0.        ,\n",
       "       0.        , 0.        , 0.        , 0.        , 0.        ,\n",
       "       0.        , 0.53333333, 0.99215686, 0.99215686, 0.99215686,\n",
       "       0.83137255, 0.52941176, 0.51764706, 0.0627451 , 0.        ,\n",
       "       0.        , 0.        , 0.        , 0.        , 0.        ,\n",
       "       0.        , 0.        , 0.        , 0.        , 0.        ,\n",
       "       0.        , 0.        , 0.        , 0.        , 0.        ,\n",
       "       0.        , 0.        , 0.        , 0.        , 0.        ,\n",
       "       0.        , 0.        , 0.        , 0.        , 0.        ,\n",
       "       0.        , 0.        , 0.        , 0.        , 0.        ,\n",
       "       0.        , 0.        , 0.        , 0.        , 0.        ,\n",
       "       0.        , 0.        , 0.        , 0.        , 0.        ,\n",
       "       0.        , 0.        , 0.        , 0.        , 0.        ,\n",
       "       0.        , 0.        , 0.        , 0.        , 0.        ,\n",
       "       0.        , 0.        , 0.        , 0.        , 0.        ,\n",
       "       0.        , 0.        , 0.        , 0.        , 0.        ,\n",
       "       0.        , 0.        , 0.        , 0.        , 0.        ,\n",
       "       0.        , 0.        , 0.        , 0.        , 0.        ,\n",
       "       0.        , 0.        , 0.        , 0.        , 0.        ,\n",
       "       0.        , 0.        , 0.        , 0.        , 0.        ,\n",
       "       0.        , 0.        , 0.        , 0.        , 0.        ,\n",
       "       0.        , 0.        , 0.        , 0.        , 0.        ,\n",
       "       0.        , 0.        , 0.        , 0.        , 0.        ,\n",
       "       0.        , 0.        , 0.        , 0.        ])"
      ]
     },
     "execution_count": 5,
     "metadata": {},
     "output_type": "execute_result"
    }
   ],
   "source": [
    "X_train.shape\n",
    "X_train[0]"
   ]
  },
  {
   "cell_type": "code",
   "execution_count": 62,
   "metadata": {
    "scrolled": true
   },
   "outputs": [
    {
     "data": {
      "text/plain": [
       "array([0, 0, 0])"
      ]
     },
     "execution_count": 62,
     "metadata": {},
     "output_type": "execute_result"
    }
   ],
   "source": [
    "data = np.array([[1,2,3], [2,4,6],[2,4,6]])\n",
    "cs = np.array([[5,5,5],[6,6,6]])\n",
    "data - cs[:, np.newaxis]\n",
    "# return the closest index\n",
    "np.argmin(((data - cs[:, np.newaxis])**2).sum(axis=2), axis = 0)"
   ]
  },
  {
   "cell_type": "code",
   "execution_count": 58,
   "metadata": {
    "scrolled": true
   },
   "outputs": [
    {
     "data": {
      "text/plain": [
       "(2, 3, 3)"
      ]
     },
     "execution_count": 58,
     "metadata": {},
     "output_type": "execute_result"
    }
   ],
   "source": [
    "(data - cs[:, np.newaxis]).shape"
   ]
  },
  {
   "cell_type": "code",
   "execution_count": 59,
   "metadata": {},
   "outputs": [
    {
     "data": {
      "text/plain": [
       "array([[[-4, -3, -2],\n",
       "        [-3, -1,  1],\n",
       "        [-3, -1,  1]],\n",
       "\n",
       "       [[-5, -4, -3],\n",
       "        [-4, -2,  0],\n",
       "        [-4, -2,  0]]])"
      ]
     },
     "execution_count": 59,
     "metadata": {},
     "output_type": "execute_result"
    }
   ],
   "source": [
    "(data - cs[:, np.newaxis])"
   ]
  },
  {
   "cell_type": "code",
   "execution_count": 66,
   "metadata": {},
   "outputs": [
    {
     "data": {
      "text/plain": [
       "array([[ -9,  -3,  -3],\n",
       "       [-12,  -6,  -6]])"
      ]
     },
     "execution_count": 66,
     "metadata": {},
     "output_type": "execute_result"
    }
   ],
   "source": [
    "(data - cs[:, np.newaxis]).sum(axis=2) # distances "
   ]
  },
  {
   "cell_type": "code",
   "execution_count": 45,
   "metadata": {},
   "outputs": [
    {
     "data": {
      "text/plain": [
       "array([[0., 1., 2.],\n",
       "       [3., 4., 5.],\n",
       "       [6., 7., 8.]])"
      ]
     },
     "execution_count": 45,
     "metadata": {},
     "output_type": "execute_result"
    }
   ],
   "source": [
    " np.arange(9.0).reshape((3, 3))"
   ]
  },
  {
   "cell_type": "code",
   "execution_count": 85,
   "metadata": {
    "scrolled": true
   },
   "outputs": [
    {
     "name": "stdout",
     "output_type": "stream",
     "text": [
      "(5, 784)\n",
      "14047800.536455018\n",
      "(5, 784)\n",
      "2969134.557261857\n",
      "(5, 784)\n",
      "2820299.3585825027\n",
      "(5, 784)\n",
      "2761740.771656574\n",
      "(5, 784)\n",
      "2730769.776809243\n",
      "(5, 784)\n",
      "2703558.5533179743\n",
      "(5, 784)\n",
      "2679204.2651283015\n",
      "(5, 784)\n",
      "2660315.7032714374\n",
      "(5, 784)\n",
      "2641408.9814561056\n",
      "(5, 784)\n",
      "2621488.1357249683\n",
      "(5, 784)\n",
      "2612533.143058385\n",
      "(5, 784)\n",
      "2609568.810156467\n",
      "(5, 784)\n",
      "2608002.5041253036\n",
      "(5, 784)\n",
      "2607054.0778860142\n",
      "(5, 784)\n",
      "2606550.7422467237\n",
      "(5, 784)\n",
      "2606279.7683510305\n",
      "(5, 784)\n",
      "2606134.5603671726\n",
      "(5, 784)\n",
      "2606055.460933217\n",
      "(5, 784)\n",
      "2606013.1098698378\n",
      "(5, 784)\n",
      "2605994.12573934\n",
      "(5, 784)\n",
      "2605984.2874697517\n",
      "(5, 784)\n",
      "2605975.9952370543\n",
      "(5, 784)\n",
      "2605969.0506079327\n",
      "(5, 784)\n",
      "2605964.2666265275\n",
      "(5, 784)\n",
      "2605962.542436147\n",
      "(5, 784)\n",
      "2605961.7102081124\n",
      "(5, 784)\n",
      "2605961.1630011396\n",
      "(5, 784)\n",
      "2605960.7600759836\n",
      "(5, 784)\n",
      "2605960.5893326136\n",
      "(5, 784)\n",
      "2605960.505171737\n",
      "(5, 784)\n",
      "2605960.4807639644\n",
      "(5, 784)\n",
      "2605960.4617199195\n",
      "(5, 784)\n",
      "2605960.4385773665\n",
      "(5, 784)\n",
      "2605960.4385773665\n",
      "(5, 784)\n",
      "2605960.4385773665\n",
      "(5, 784)\n",
      "2605960.4385773665\n",
      "(5, 784)\n",
      "2605960.4385773665\n",
      "(5, 784)\n",
      "2605960.4385773665\n",
      "(5, 784)\n",
      "2605960.4385773665\n",
      "(5, 784)\n",
      "2605960.4385773665\n"
     ]
    }
   ],
   "source": [
    "import sys\n",
    "import copy\n",
    "k = 5\n",
    "\n",
    "n, d = X_train.shape\n",
    "np.random.seed(3)\n",
    "centers = np.random.random( (k, d))\n",
    "\n",
    "def initiate_data_l(k, d):\n",
    "    data_l = []\n",
    "    for i in range(k):\n",
    "        data_l.append(np.zeros(d))\n",
    "    return data_l\n",
    "# new_data_l = np.zeros( (k, d)) # initialized data list, needs to be checked\n",
    "\n",
    "old_data_l = X_train.copy()\n",
    "total_dist_l = []\n",
    "while True: # TODO: converge condition\n",
    "#     new_data_l = initiate_data_l( k, d)  # like a temp container\n",
    "    \n",
    "    squared_norm_dist = (old_data_l - centers[:, np.newaxis])**2\n",
    "    \n",
    "    # new centroids for each data\n",
    "    centroids = np.argmin((squared_norm_dist).sum(axis=2), axis = 0)\n",
    "    \n",
    "    # total squared norm distance of all points\n",
    "    total_dist = np.sum(np.min((squared_norm_dist).sum(axis=2), axis = 0))\n",
    "    total_dist_l.append(total_dist)\n",
    "\n",
    "    print(centers.shape)\n",
    "    # new centers\n",
    "    for i in range(k):\n",
    "        centers[i] = np.mean( old_data_l[centroids==i], axis = 0 )\n",
    "    print(total_dist)\n",
    "\n",
    "    if len(total_dist_l) == 40:\n",
    "        break"
   ]
  },
  {
   "cell_type": "code",
   "execution_count": 90,
   "metadata": {},
   "outputs": [
    {
     "data": {
      "text/plain": [
       "[<matplotlib.lines.Line2D at 0x7f1e245de410>]"
      ]
     },
     "execution_count": 90,
     "metadata": {},
     "output_type": "execute_result"
    },
    {
     "data": {
      "image/png": "[encoded data removed]",
      "text/plain": [
       "<Figure size 432x288 with 1 Axes>"
      ]
     },
     "metadata": {
      "needs_background": "light"
     },
     "output_type": "display_data"
    }
   ],
   "source": [
    "from matplotlib import pyplot as plt\n",
    "\n",
    "plt.plot(list(range(len(total_dist_l))), total_dist_l)\n",
    "# plt.yscale(\"log\")"
   ]
  },
  {
   "cell_type": "code",
   "execution_count": 84,
   "metadata": {},
   "outputs": [
    {
     "data": {
      "text/plain": [
       "[array([50.37707544, 54.15411363, 53.12867979, ..., 45.07528609,\n",
       "        47.10899231, 42.49414057]),\n",
       " array([50.37707544, 54.15411363, 53.12867979, ..., 45.07528609,\n",
       "        47.10899231, 42.49414057]),\n",
       " array([50.37707544, 54.15411363, 53.12867979, ..., 45.07528609,\n",
       "        47.10899231, 42.49414057]),\n",
       " array([50.37707544, 54.15411363, 53.12867979, ..., 45.07528609,\n",
       "        47.10899231, 42.49414057]),\n",
       " array([50.37707544, 54.15411363, 53.12867979, ..., 45.07528609,\n",
       "        47.10899231, 42.49414057]),\n",
       " array([50.37707544, 54.15411363, 53.12867979, ..., 45.07528609,\n",
       "        47.10899231, 42.49414057]),\n",
       " array([50.37707544, 54.15411363, 53.12867979, ..., 45.07528609,\n",
       "        47.10899231, 42.49414057]),\n",
       " array([50.37707544, 54.15411363, 53.12867979, ..., 45.07528609,\n",
       "        47.10899231, 42.49414057]),\n",
       " array([50.37707544, 54.15411363, 53.12867979, ..., 45.07528609,\n",
       "        47.10899231, 42.49414057]),\n",
       " array([50.37707544, 54.15411363, 53.12867979, ..., 45.07528609,\n",
       "        47.10899231, 42.49414057]),\n",
       " array([50.37707544, 54.15411363, 53.12867979, ..., 45.07528609,\n",
       "        47.10899231, 42.49414057]),\n",
       " array([50.37707544, 54.15411363, 53.12867979, ..., 45.07528609,\n",
       "        47.10899231, 42.49414057]),\n",
       " array([50.37707544, 54.15411363, 53.12867979, ..., 45.07528609,\n",
       "        47.10899231, 42.49414057]),\n",
       " array([50.37707544, 54.15411363, 53.12867979, ..., 45.07528609,\n",
       "        47.10899231, 42.49414057]),\n",
       " array([50.37707544, 54.15411363, 53.12867979, ..., 45.07528609,\n",
       "        47.10899231, 42.49414057]),\n",
       " array([50.37707544, 54.15411363, 53.12867979, ..., 45.07528609,\n",
       "        47.10899231, 42.49414057]),\n",
       " array([50.37707544, 54.15411363, 53.12867979, ..., 45.07528609,\n",
       "        47.10899231, 42.49414057]),\n",
       " array([50.37707544, 54.15411363, 53.12867979, ..., 45.07528609,\n",
       "        47.10899231, 42.49414057]),\n",
       " array([50.37707544, 54.15411363, 53.12867979, ..., 45.07528609,\n",
       "        47.10899231, 42.49414057]),\n",
       " array([50.37707544, 54.15411363, 53.12867979, ..., 45.07528609,\n",
       "        47.10899231, 42.49414057]),\n",
       " array([50.37707544, 54.15411363, 53.12867979, ..., 45.07528609,\n",
       "        47.10899231, 42.49414057]),\n",
       " array([50.37707544, 54.15411363, 53.12867979, ..., 45.07528609,\n",
       "        47.10899231, 42.49414057]),\n",
       " array([50.37707544, 54.15411363, 53.12867979, ..., 45.07528609,\n",
       "        47.10899231, 42.49414057]),\n",
       " array([50.37707544, 54.15411363, 53.12867979, ..., 45.07528609,\n",
       "        47.10899231, 42.49414057]),\n",
       " array([50.37707544, 54.15411363, 53.12867979, ..., 45.07528609,\n",
       "        47.10899231, 42.49414057]),\n",
       " array([50.37707544, 54.15411363, 53.12867979, ..., 45.07528609,\n",
       "        47.10899231, 42.49414057]),\n",
       " array([50.37707544, 54.15411363, 53.12867979, ..., 45.07528609,\n",
       "        47.10899231, 42.49414057]),\n",
       " array([50.37707544, 54.15411363, 53.12867979, ..., 45.07528609,\n",
       "        47.10899231, 42.49414057]),\n",
       " array([50.37707544, 54.15411363, 53.12867979, ..., 45.07528609,\n",
       "        47.10899231, 42.49414057]),\n",
       " array([50.37707544, 54.15411363, 53.12867979, ..., 45.07528609,\n",
       "        47.10899231, 42.49414057]),\n",
       " array([50.37707544, 54.15411363, 53.12867979, ..., 45.07528609,\n",
       "        47.10899231, 42.49414057]),\n",
       " array([50.37707544, 54.15411363, 53.12867979, ..., 45.07528609,\n",
       "        47.10899231, 42.49414057]),\n",
       " array([50.37707544, 54.15411363, 53.12867979, ..., 45.07528609,\n",
       "        47.10899231, 42.49414057]),\n",
       " array([50.37707544, 54.15411363, 53.12867979, ..., 45.07528609,\n",
       "        47.10899231, 42.49414057]),\n",
       " array([50.37707544, 54.15411363, 53.12867979, ..., 45.07528609,\n",
       "        47.10899231, 42.49414057]),\n",
       " array([50.37707544, 54.15411363, 53.12867979, ..., 45.07528609,\n",
       "        47.10899231, 42.49414057]),\n",
       " array([50.37707544, 54.15411363, 53.12867979, ..., 45.07528609,\n",
       "        47.10899231, 42.49414057]),\n",
       " array([50.37707544, 54.15411363, 53.12867979, ..., 45.07528609,\n",
       "        47.10899231, 42.49414057]),\n",
       " array([50.37707544, 54.15411363, 53.12867979, ..., 45.07528609,\n",
       "        47.10899231, 42.49414057]),\n",
       " array([50.37707544, 54.15411363, 53.12867979, ..., 45.07528609,\n",
       "        47.10899231, 42.49414057])]"
      ]
     },
     "execution_count": 84,
     "metadata": {},
     "output_type": "execute_result"
    }
   ],
   "source": [
    "total_dist_l"
   ]
  },
  {
   "cell_type": "code",
   "execution_count": 71,
   "metadata": {},
   "outputs": [
    {
     "data": {
      "text/plain": [
       "(12788,)"
      ]
     },
     "execution_count": 71,
     "metadata": {},
     "output_type": "execute_result"
    }
   ],
   "source": [
    " data_centers[data_centers==i].shape"
   ]
  },
  {
   "cell_type": "code",
   "execution_count": 72,
   "metadata": {},
   "outputs": [
    {
     "data": {
      "text/plain": [
       "(60000,)"
      ]
     },
     "execution_count": 72,
     "metadata": {},
     "output_type": "execute_result"
    }
   ],
   "source": [
    " data_centers.shape"
   ]
  },
  {
   "cell_type": "code",
   "execution_count": 24,
   "metadata": {},
   "outputs": [
    {
     "data": {
      "text/plain": [
       "True"
      ]
     },
     "execution_count": 24,
     "metadata": {},
     "output_type": "execute_result"
    }
   ],
   "source": [
    "np.array_equal(np.zeros( (k, d) )[0],np.zeros( d))"
   ]
  },
  {
   "cell_type": "code",
   "execution_count": 22,
   "metadata": {},
   "outputs": [
    {
     "data": {
      "text/plain": [
       "(1, 784)"
      ]
     },
     "execution_count": 22,
     "metadata": {},
     "output_type": "execute_result"
    }
   ],
   "source": [
    "np.zeros( (k, d) )[0].shape\n",
    "np.zeros( (1,d)).shape"
   ]
  }
 ],
 "metadata": {
  "kernelspec": {
   "display_name": "Python 3",
   "language": "python",
   "name": "python3"
  },
  "language_info": {
   "codemirror_mode": {
    "name": "ipython",
    "version": 3
   },
   "file_extension": ".py",
   "mimetype": "text/x-python",
   "name": "python",
   "nbconvert_exporter": "python",
   "pygments_lexer": "ipython3",
   "version": "3.7.6"
  }
 },
 "nbformat": 4,
 "nbformat_minor": 4
}
