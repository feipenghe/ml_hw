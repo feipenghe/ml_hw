{
 "cells": [
  {
   "cell_type": "code",
   "execution_count": 1,
   "metadata": {},
   "outputs": [],
   "source": [
    "from mnist import MNIST\n",
    "import numpy as np\n",
    "import matplotlib.pyplot as plt\n",
    "def load_dataset():\n",
    "    mndata = MNIST(\"./python-mnist/data/\")\n",
    "    X_train, labels_train = map(np.array, mndata.load_training())\n",
    "    X_test, labels_test = map(np.array, mndata.load_testing())\n",
    "    X_train = X_train/255.0\n",
    "    X_test = X_test/255.0\n",
    "    return X_train, labels_train, X_test, labels_test"
   ]
  },
  {
   "cell_type": "code",
   "execution_count": 2,
   "metadata": {},
   "outputs": [
    {
     "data": {
      "text/plain": [
       "(array([[0., 0., 0., ..., 0., 0., 0.],\n",
       "        [0., 0., 0., ..., 0., 0., 0.],\n",
       "        [0., 0., 0., ..., 0., 0., 0.],\n",
       "        ...,\n",
       "        [0., 0., 0., ..., 0., 0., 0.],\n",
       "        [0., 0., 0., ..., 0., 0., 0.],\n",
       "        [0., 0., 0., ..., 0., 0., 0.]]),\n",
       " array([5, 0, 4, ..., 5, 6, 8], dtype=uint8),\n",
       " array([[0., 0., 0., ..., 0., 0., 0.],\n",
       "        [0., 0., 0., ..., 0., 0., 0.],\n",
       "        [0., 0., 0., ..., 0., 0., 0.],\n",
       "        ...,\n",
       "        [0., 0., 0., ..., 0., 0., 0.],\n",
       "        [0., 0., 0., ..., 0., 0., 0.],\n",
       "        [0., 0., 0., ..., 0., 0., 0.]]),\n",
       " array([7, 2, 1, ..., 4, 5, 6], dtype=uint8))"
      ]
     },
     "execution_count": 2,
     "metadata": {},
     "output_type": "execute_result"
    }
   ],
   "source": [
    "load_dataset()"
   ]
  },
  {
   "cell_type": "code",
   "execution_count": 58,
   "metadata": {},
   "outputs": [],
   "source": [
    "X_train, labels_train, X_test, labels_test = load_dataset()"
   ]
  },
  {
   "cell_type": "code",
   "execution_count": 60,
   "metadata": {},
   "outputs": [
    {
     "name": "stdout",
     "output_type": "stream",
     "text": [
      "(784,)\n"
     ]
    }
   ],
   "source": [
    "print(X_train[0].shape)"
   ]
  },
  {
   "cell_type": "code",
   "execution_count": 4,
   "metadata": {},
   "outputs": [
    {
     "data": {
      "text/plain": [
       "5"
      ]
     },
     "execution_count": 4,
     "metadata": {},
     "output_type": "execute_result"
    }
   ],
   "source": [
    "labels_train[0]"
   ]
  },
  {
   "cell_type": "code",
   "execution_count": 5,
   "metadata": {},
   "outputs": [
    {
     "data": {
      "text/plain": [
       "<matplotlib.image.AxesImage at 0x124802450>"
      ]
     },
     "execution_count": 5,
     "metadata": {},
     "output_type": "execute_result"
    },
    {
     "data": {
      "image/png": "[encoded data removed]",
      "text/plain": [
       "<Figure size 432x288 with 1 Axes>"
      ]
     },
     "metadata": {
      "needs_background": "light"
     },
     "output_type": "display_data"
    }
   ],
   "source": [
    "plt.imshow(X_train[1].reshape(28,28))"
   ]
  },
  {
   "cell_type": "code",
   "execution_count": 6,
   "metadata": {},
   "outputs": [],
   "source": [
    "a = X_train.T.dot(X_train)\n"
   ]
  },
  {
   "cell_type": "code",
   "execution_count": 7,
   "metadata": {
    "scrolled": true
   },
   "outputs": [
    {
     "data": {
      "text/plain": [
       "(784, 784)"
      ]
     },
     "execution_count": 7,
     "metadata": {},
     "output_type": "execute_result"
    }
   ],
   "source": [
    "a.shape"
   ]
  },
  {
   "cell_type": "code",
   "execution_count": 8,
   "metadata": {},
   "outputs": [
    {
     "name": "stdout",
     "output_type": "stream",
     "text": [
      "784\n"
     ]
    }
   ],
   "source": [
    "print(len(a))"
   ]
  },
  {
   "cell_type": "code",
   "execution_count": 9,
   "metadata": {
    "scrolled": false
   },
   "outputs": [
    {
     "data": {
      "text/plain": [
       "(60000,)"
      ]
     },
     "execution_count": 9,
     "metadata": {},
     "output_type": "execute_result"
    }
   ],
   "source": [
    "labels_train.shape"
   ]
  },
  {
   "cell_type": "code",
   "execution_count": null,
   "metadata": {},
   "outputs": [],
   "source": []
  },
  {
   "cell_type": "code",
   "execution_count": 10,
   "metadata": {},
   "outputs": [
    {
     "name": "stdout",
     "output_type": "stream",
     "text": [
      "[[0. 0. 0. ... 0. 0. 0.]\n",
      " [1. 0. 0. ... 0. 0. 0.]\n",
      " [0. 0. 0. ... 0. 0. 0.]\n",
      " ...\n",
      " [0. 0. 0. ... 0. 0. 0.]\n",
      " [0. 0. 0. ... 0. 0. 0.]\n",
      " [0. 0. 0. ... 0. 1. 0.]]\n"
     ]
    }
   ],
   "source": [
    "Y = np.eye(10)\n",
    "# print(Y)\n",
    "\n",
    "Y = np.eye(10)[labels_train]\n",
    "print(Y)"
   ]
  },
  {
   "cell_type": "code",
   "execution_count": 11,
   "metadata": {
    "scrolled": true
   },
   "outputs": [
    {
     "name": "stdout",
     "output_type": "stream",
     "text": [
      "(60000, 10)\n"
     ]
    }
   ],
   "source": [
    "print(Y.shape)"
   ]
  },
  {
   "cell_type": "code",
   "execution_count": 12,
   "metadata": {},
   "outputs": [
    {
     "name": "stdout",
     "output_type": "stream",
     "text": [
      "(60000, 784)\n"
     ]
    }
   ],
   "source": [
    "print(X_train.shape) # 784 x 784 x784x 60000 x 60000 x 10"
   ]
  },
  {
   "cell_type": "code",
   "execution_count": 13,
   "metadata": {},
   "outputs": [
    {
     "data": {
      "text/plain": [
       "(784, 784)"
      ]
     },
     "execution_count": 13,
     "metadata": {},
     "output_type": "execute_result"
    }
   ],
   "source": [
    "X = X_train\n",
    "X.T.dot(X).shape"
   ]
  },
  {
   "cell_type": "code",
   "execution_count": 14,
   "metadata": {},
   "outputs": [
    {
     "data": {
      "text/plain": [
       "(784, 784)"
      ]
     },
     "execution_count": 14,
     "metadata": {},
     "output_type": "execute_result"
    }
   ],
   "source": [
    "np.multiply(3, np.eye(784)).shape"
   ]
  },
  {
   "cell_type": "code",
   "execution_count": 15,
   "metadata": {},
   "outputs": [],
   "source": [
    "result = np.linalg.pinv(X.T.dot(X) + np.multiply(3, np.eye(784)))"
   ]
  },
  {
   "cell_type": "code",
   "execution_count": 31,
   "metadata": {},
   "outputs": [
    {
     "name": "stdout",
     "output_type": "stream",
     "text": [
      "60000\n"
     ]
    }
   ],
   "source": [
    "print(len(X_train))"
   ]
  },
  {
   "cell_type": "code",
   "execution_count": 17,
   "metadata": {},
   "outputs": [
    {
     "data": {
      "text/plain": [
       "array([[0., 0., 0., ..., 0., 0., 0.],\n",
       "       [0., 0., 0., ..., 0., 0., 0.],\n",
       "       [0., 0., 0., ..., 0., 0., 0.],\n",
       "       ...,\n",
       "       [0., 0., 0., ..., 0., 0., 0.],\n",
       "       [0., 0., 0., ..., 0., 0., 0.],\n",
       "       [0., 0., 0., ..., 0., 0., 0.]])"
      ]
     },
     "execution_count": 17,
     "metadata": {},
     "output_type": "execute_result"
    }
   ],
   "source": [
    "result.dot(X.T).dot(Y)"
   ]
  },
  {
   "cell_type": "code",
   "execution_count": 18,
   "metadata": {},
   "outputs": [
    {
     "ename": "NameError",
     "evalue": "name 'reg_lambda' is not defined",
     "output_type": "error",
     "traceback": [
      "\u001b[0;31m---------------------------------------------------------------------------\u001b[0m",
      "\u001b[0;31mNameError\u001b[0m                                 Traceback (most recent call last)",
      "\u001b[0;32m<ipython-input-18-9d812de7acc7>\u001b[0m in \u001b[0;36m<module>\u001b[0;34m\u001b[0m\n\u001b[0;32m----> 1\u001b[0;31m \u001b[0mnp\u001b[0m\u001b[0;34m.\u001b[0m\u001b[0mmultiply\u001b[0m\u001b[0;34m(\u001b[0m\u001b[0mreg_lambda\u001b[0m\u001b[0;34m,\u001b[0m \u001b[0mnp\u001b[0m\u001b[0;34m.\u001b[0m\u001b[0meye\u001b[0m\u001b[0;34m(\u001b[0m\u001b[0;36m784\u001b[0m\u001b[0;34m)\u001b[0m\u001b[0;34m)\u001b[0m\u001b[0;34m\u001b[0m\u001b[0;34m\u001b[0m\u001b[0m\n\u001b[0m",
      "\u001b[0;31mNameError\u001b[0m: name 'reg_lambda' is not defined"
     ]
    }
   ],
   "source": [
    "np.multiply(reg_lambda, np.eye(784))"
   ]
  },
  {
   "cell_type": "code",
   "execution_count": 19,
   "metadata": {},
   "outputs": [],
   "source": [
    "reg_lambda = 1e-4\n",
    "def train(X,X_labels, reg_lambda):\n",
    "    # TODO: polyfeature + normalization?\n",
    "    \n",
    "    n = X.shape[1]\n",
    "    Y = np.eye(10)[X_labels]\n",
    "    w = np.linalg.pinv(X.T.dot(X) + np.multiply(reg_lambda, np.eye(n))  ).dot(X.T).dot(Y)\n",
    "#     w = np.linalg.pinv(X.T.dot(X) + np.multiply(reg_lambda,np.eye(n)) ).dot(X.T).dot(Y)\n",
    "    return w\n",
    "\n",
    "w = train(X_train, labels_train, reg_lambda)"
   ]
  },
  {
   "cell_type": "code",
   "execution_count": 20,
   "metadata": {},
   "outputs": [
    {
     "name": "stdout",
     "output_type": "stream",
     "text": [
      "(784, 10)\n"
     ]
    }
   ],
   "source": [
    "print(w.shape)"
   ]
  },
  {
   "cell_type": "code",
   "execution_count": 53,
   "metadata": {},
   "outputs": [],
   "source": [
    "def predict(w, x, p):\n",
    "    n, d = x.shape\n",
    "    h = np.zeros((n, p))\n",
    "    G = np.random.normal(0, 1, size=(p, d))\n",
    "    b = np.random.uniform(0, math.pi, size=(p,))\n",
    "    for i in range(n):\n",
    "        h[i, :] = np.cos(G.dot(x[i, :].T) + b)\n",
    "    predictions = np.eye(10).T.dot(w.T).dot(h.T)\n",
    "    return predictions"
   ]
  },
  {
   "cell_type": "code",
   "execution_count": 40,
   "metadata": {},
   "outputs": [],
   "source": [
    "import math\n",
    "def pFeature(X, p):\n",
    "    n, d = X.shape\n",
    "\n",
    "    n = X.shape[0]\n",
    "    h = np.zeros((n, p))\n",
    "    \n",
    "#     print(\"p \", p)\n",
    "#     print(\"d \", d)\n",
    "    # TODO: try generate G, b for each sample\n",
    "    G = np.random.normal(0, 1, size=(p, d))\n",
    "    b = np.random.uniform(0, math.pi, size=(p,))\n",
    "    for i in range(n):\n",
    "#         print(\"G \", G.shape)\n",
    "#         print(\"X[i,:].T \", X[i,:].T.shape)\n",
    "        h[i, :] = np.cos(G.dot(X[i,:].T) + b)\n",
    "    return h"
   ]
  },
  {
   "cell_type": "code",
   "execution_count": null,
   "metadata": {
    "scrolled": true
   },
   "outputs": [],
   "source": [
    "np.arange(100, 2100, 400)"
   ]
  },
  {
   "cell_type": "code",
   "execution_count": 45,
   "metadata": {},
   "outputs": [],
   "source": [
    "def splitTrainValidation(X, X_labels):\n",
    "    n = len(X)\n",
    "    indices = np.random.permutation(n)\n",
    "    print(n)\n",
    "    training_idx_num = int(n* 0.8)\n",
    "    training_idx, validation_idx = indices[:training_idx_num], indices[training_idx_num:]\n",
    "    training_data = X[training_idx, :]\n",
    "    training_labels = X_labels[training_idx]\n",
    "    val_data = X[validation_idx, :]\n",
    "    val_labels = X_labels[validation_idx]\n",
    "    return training_data, training_labels, val_data, val_labels"
   ]
  },
  {
   "cell_type": "code",
   "execution_count": 25,
   "metadata": {},
   "outputs": [],
   "source": [
    "def train(X, X_labels, reg_lambda=0):\n",
    "    # TODO: polyfeature + normalization?\n",
    "\n",
    "    n = X.shape[1]\n",
    "    Y = np.eye(10)[X_labels]\n",
    "    w = np.linalg.pinv(X.T.dot(X) + np.multiply(reg_lambda, np.eye(n))).dot(X.T).dot(Y)\n",
    "    #     w = np.linalg.pinv(X.T.dot(X) + np.multiply(reg_lambda,np.eye(n)) ).dot(X.T).dot(Y)\n",
    "    return w"
   ]
  },
  {
   "cell_type": "code",
   "execution_count": 39,
   "metadata": {},
   "outputs": [
    {
     "data": {
      "text/plain": [
       "array([[ 0.52601604,  0.90359675,  0.08614315, ...,  0.78218901,\n",
       "        -0.99887277,  0.39097043],\n",
       "       [-0.46504257, -0.39310463, -0.97473106, ..., -0.66223582,\n",
       "        -0.93916929,  0.30375045],\n",
       "       [-0.98806852, -0.43208679,  0.26691498, ...,  0.11142287,\n",
       "        -0.60686781, -0.65066036],\n",
       "       ...,\n",
       "       [ 0.53078623,  0.99189009, -0.97146959, ...,  0.07525966,\n",
       "         0.82013441, -0.38162265],\n",
       "       [ 0.17217737,  0.97068362,  0.99822636, ..., -0.96670607,\n",
       "        -0.45325137, -0.7859005 ],\n",
       "       [ 0.16804673,  0.9811033 ,  0.80841793, ...,  0.52788866,\n",
       "         0.45215109,  0.9991888 ]])"
      ]
     },
     "execution_count": 39,
     "metadata": {},
     "output_type": "execute_result"
    }
   ],
   "source": [
    "pFeature(X_train, 100)"
   ]
  },
  {
   "cell_type": "code",
   "execution_count": null,
   "metadata": {},
   "outputs": [],
   "source": [
    "X_train, labels_train, X_test, labels_test = load_dataset()"
   ]
  },
  {
   "cell_type": "code",
   "execution_count": 55,
   "metadata": {},
   "outputs": [
    {
     "name": "stdout",
     "output_type": "stream",
     "text": [
      "15728\n",
      "12582\n",
      "Train error:   0.897790494357018\n",
      "Test error:    0.8989\n",
      "Training progress:   1 / 1\n"
     ]
    }
   ],
   "source": [
    "\n",
    "ps = np.array([100])\n",
    "\n",
    "\n",
    "train_errors = np.zeros(len(ps))\n",
    "test_errors = np.zeros(len(ps))\n",
    "idx = 0\n",
    "reg_lambda = 1e-4\n",
    "\n",
    "# for loop \n",
    "for p in ps:\n",
    "    \n",
    "    # feature transform\n",
    "    X_train = pFeature(X_train, p)  # when transform features\n",
    "    X_train, labels_train, X_val, val_labels = splitTrainValidation(X_train, labels_train)\n",
    "    print((len(X_train)))\n",
    "    w = train(X_train, labels_train, reg_lambda)\n",
    "    prediction_train = predict(w, X_train, p)\n",
    "    prediction_train = np.argmax(prediction_train, axis=0)\n",
    "    train_errors[idx] = 1 - np.sum(labels_train == np.array(prediction_train)) / len(labels_train)\n",
    "    print(\"Train error:  \", 1 - np.sum(labels_train == np.array(prediction_train)) / len(labels_train))\n",
    "    prediction_test = predict(w, X_test, p)\n",
    "    prediction_test = np.argmax(prediction_test, axis=0)\n",
    "    test_errors[idx] = 1 - np.sum(labels_test == np.array(prediction_test)) / len(labels_test)\n",
    "    print(\"Test error:   \", 1 - np.sum(labels_test == np.array(prediction_test)) / len(labels_test))\n",
    "    idx += 1\n",
    "    print(\"Training progress:  \", idx , \"/\", len(ps))"
   ]
  },
  {
   "cell_type": "code",
   "execution_count": 71,
   "metadata": {},
   "outputs": [
    {
     "data": {
      "text/plain": [
       "(59.86418984842594, 60.13581015157406)"
      ]
     },
     "execution_count": 71,
     "metadata": {},
     "output_type": "execute_result"
    }
   ],
   "source": [
    "def hoeffding( num_samples, num_correct, a= 0, b= 1, delta = 0.05):\n",
    "    rhs = math.sqrt( (b-a)**2*math.log(2/delta, math.e)/(2* num_samples) )\n",
    "    mu_conf_interval = (  -rhs+num_correct,  rhs+num_correct)\n",
    "    return mu_conf_interval\n",
    "\n",
    "\n",
    "hoeffding(100, 60)"
   ]
  }
 ],
 "metadata": {
  "kernelspec": {
   "display_name": "Python 3",
   "language": "python",
   "name": "python3"
  },
  "language_info": {
   "codemirror_mode": {
    "name": "ipython",
    "version": 3
   },
   "file_extension": ".py",
   "mimetype": "text/x-python",
   "name": "python",
   "nbconvert_exporter": "python",
   "pygments_lexer": "ipython3",
   "version": "3.7.6"
  },
  "pycharm": {
   "stem_cell": {
    "cell_type": "raw",
    "metadata": {
     "collapsed": false
    },
    "source": []
   }
  }
 },
 "nbformat": 4,
 "nbformat_minor": 2
}
