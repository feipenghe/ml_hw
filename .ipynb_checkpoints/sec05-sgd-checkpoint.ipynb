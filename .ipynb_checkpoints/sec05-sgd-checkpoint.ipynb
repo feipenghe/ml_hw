{
 "cells": [
  {
   "cell_type": "markdown",
   "metadata": {},
   "source": [
    "### Stochastic Gradient Descent"
   ]
  },
  {
   "cell_type": "markdown",
   "metadata": {},
   "source": [
    "<b>Stochastic Gradient Descent (SGD)</b>, a simple modification applied to the <b>gradient descent</b> algorithm that we saw from previous week's section. SGD also computes the gradient but updates the weight matrix W on small batches of training data, instead of the entire training set itself.\n",
    "\n",
    "While this leads to “noiser” weight updates, it also allows us to take more steps along the gradient (1 step for each batch vs. 1 step per epoch), ultimately leading to faster convergence and no negative affects to loss and classification accuracy."
   ]
  },
  {
   "cell_type": "markdown",
   "metadata": {},
   "source": [
    "Here is a quick <u>comparison table</u> between Stochastic Gradient Descent and gradient descent:\n",
    "\n",
    "| Algorithm | Time per iter | Total time to convergence<br>for large data in theory | Total time to convergence<br>for large data in practice | Sensitivity to params |\n",
    "|------------------------|---------------------|-------------------------------------------------------|---------------------------------------------------------|-----------------------|\n",
    "| Gradient<br>Descent | Slow for large data | Slower | Usually slower | Moderate |\n",
    "| Stochastic<br>Gradient | Always fast | Faster | Usually faster | Very high |"
   ]
  },
  {
   "cell_type": "markdown",
   "metadata": {},
   "source": [
    "Now, let's consider an example where we illustrate the use of stochastic gradient descent for linear regression. \n",
    "\n",
    "Our goal is to find the equation of the straight line $h_\\theta(x) = \\theta_0 + \\theta_1 x$ that best fits our data points. The function that we are trying to minimize in this case is:\n",
    "\n",
    "$J(\\theta_0,\\theta_1) = {1 \\over 2m} \\sum\\limits_{i=1}^m (h_\\theta(x_i)-y_i)^2$\n",
    "\n",
    "In this case, our gradient will be defined in two dimensions:\n",
    "\n",
    "$\\frac{\\partial}{\\partial \\theta_0} J(\\theta_0,\\theta_1) = \\frac{1}{m}  \\sum\\limits_{i=1}^m (h_\\theta(x_i)-y_i)$\n",
    "\n",
    "$\\frac{\\partial}{\\partial \\theta_1} J(\\theta_0,\\theta_1) = \\frac{1}{m}  \\sum\\limits_{i=1}^m ((h_\\theta(x_i)-y_i) \\cdot x_i)$\n",
    "\n",
    "Then we followed this algorithm (where $\\alpha$ was a non-adapting stepsize):\n",
    "\n",
    "&nbsp;&nbsp;&nbsp; 1: &nbsp; Choose initial guess $x_0$ <br>\n",
    "&nbsp;&nbsp;&nbsp;    2: &nbsp; <b>for</b> k = 0, 1, 2, ... <b>do</b> <br>\n",
    "&nbsp;&nbsp;&nbsp;    3:   &nbsp;&nbsp;&nbsp;&nbsp;&nbsp; $s_k$ = -$\\nabla f(x_k)$ <br>\n",
    "&nbsp;&nbsp;&nbsp;    4:   &nbsp;&nbsp;&nbsp;&nbsp;&nbsp; $x_{k+1} = x_k + \\alpha s_k$ <br>\n",
    "&nbsp;&nbsp;&nbsp;    5: &nbsp;  <b>end for</b>\n",
    "\n",
    "Here is the stochastic gradient descent algorithm for simple linear regression, where m is the size of the data set:\n",
    "\n",
    "&nbsp;&nbsp;&nbsp; 1: &nbsp; Randomly shuffle the data set <br>\n",
    "&nbsp;&nbsp;&nbsp;    2: &nbsp; <b>for</b> k = 0, 1, 2, ... <b>do</b> <br>\n",
    "&nbsp;&nbsp;&nbsp;    3: &nbsp;&nbsp;&nbsp;&nbsp;&nbsp; <b>for</b> i = 1 to m <b>do</b> <br>\n",
    "&nbsp;&nbsp;&nbsp;    4:   &nbsp;&nbsp;&nbsp;&nbsp;&nbsp;&nbsp;&nbsp;&nbsp;&nbsp;&nbsp; $\\begin{bmatrix}\n",
    " \\theta_0 \\\\ \n",
    " \\theta_1 \\\\ \n",
    " \\end{bmatrix}=\\begin{bmatrix}\n",
    " \\theta_0 \\\\ \n",
    " \\theta_1 \\\\ \n",
    " \\end{bmatrix}-\\alpha\\begin{bmatrix}\n",
    " 2(h_\\theta(x_i)-y_i) \\\\ \n",
    " 2x_i(h_\\theta(x_i)-y_i) \\\\ \n",
    " \\end{bmatrix}$ <br>\n",
    "&nbsp;&nbsp;&nbsp;    5: &nbsp;&nbsp;&nbsp;&nbsp;&nbsp; <b>end for</b> <br> \n",
    "&nbsp;&nbsp;&nbsp;    6: &nbsp;  <b>end for</b>\n",
    "\n",
    "Typically, with stochastic gradient descent, you will run through the entire data set 1 to 10 times (see value for k in line 2 of the pseudocode above), depending on how fast the data is converging and how large the data set is.\n",
    "\n",
    "In the example below, we'll create a set of 50,000 points around the line 𝑦 = 7+ 3𝑥 + 𝜖 , for values of x between 0 and 100:"
   ]
  },
  {
   "cell_type": "code",
   "execution_count": 1,
   "metadata": {},
   "outputs": [],
   "source": [
    "%matplotlib inline\n",
    "import numpy as np\n",
    "import matplotlib.pyplot as plt"
   ]
  },
  {
   "cell_type": "code",
   "execution_count": 2,
   "metadata": {},
   "outputs": [],
   "source": [
    "np.random.seed(42)\n",
    "x = np.random.random(50000) * 100\n",
    "noise = np.random.randn(len(x)) * 10\n",
    "f = lambda x: 7 + x * 3 + noise\n",
    "\n",
    "y = f(x) \n",
    "m = len(y)\n",
    "batch = 100 # batch size"
   ]
  },
  {
   "cell_type": "markdown",
   "metadata": {},
   "source": [
    "First, let's randomly shuffle around our dataset. Note that in this example, this step isn't strictly necessary since the data is already in a random order. However, that obviously may not always be the case:"
   ]
  },
  {
   "cell_type": "markdown",
   "metadata": {},
   "source": [
    "Now we'll setup our h function and our cost function, which we will use to check how the value is improving."
   ]
  },
  {
   "cell_type": "code",
   "execution_count": 3,
   "metadata": {},
   "outputs": [],
   "source": [
    "h = lambda theta_0, theta_1, x: theta_0 + theta_1 * x\n",
    "cost = lambda theta_0, theta_1, x_i, y_i: 0.5 * (h(theta_0, theta_1, x_i) - y_i) ** 2"
   ]
  },
  {
   "cell_type": "markdown",
   "metadata": {},
   "source": [
    "Now we'll run our stochastic gradient descent algorithm. To see it's progress, we'll take a cost measurement at every step. Every 10,000 steps, we'll get an average cost from the last 10,000 steps and then append that to our cost_list variable. We will run through the entire list 10 times here:"
   ]
  },
  {
   "cell_type": "code",
   "execution_count": 4,
   "metadata": {},
   "outputs": [
    {
     "name": "stdout",
     "output_type": "stream",
     "text": [
      "Local minimum occurs where:\n",
      "theta_0 = 7.07789735537464\n",
      "theta_1 = 3.0368460823859147\n"
     ]
    }
   ],
   "source": [
    "theta_old = np.array([0.,0.])\n",
    "theta_new = np.array([1.,1.]) # The algorithm starts at [1,1]\n",
    "lr = 0.00005 # learning rate\n",
    "batch = 1 # batch size\n",
    "\n",
    "iter_num = 0\n",
    "s_k = np.array([float(\"inf\"), float(\"inf\")])\n",
    "sum_cost = 0\n",
    "cost_list = []\n",
    "\n",
    "for i in range(m * 20): # In reality, you want while => condition to be gradient is sufficiently small\n",
    "    iter_num += 1\n",
    "    # random choice of matching x and y\n",
    "    idx = np.random.randint(0, m, size=batch) # randomly choose some i \n",
    "    x_i = x[idx]  # random choice of x\n",
    "    y_i = y[idx]  # random choice of y\n",
    "    \n",
    "    theta_old = theta_new\n",
    "    pred_y = h(theta_old[0], theta_old[1], x_i)\n",
    "    s_k[0] = pred_y - y_i\n",
    "    s_k[1] = (pred_y - y_i) * x_i\n",
    "    s_k = (-1) * s_k\n",
    "    theta_new = theta_old + lr * s_k\n",
    "    \n",
    "    # saved for plot\n",
    "    sum_cost += cost(theta_old[0], theta_old[1], x_i, y_i)\n",
    "    if (i + 1) % 10000 == 0:\n",
    "        cost_list.append(sum_cost / 10000.0)\n",
    "        sum_cost = 0   \n",
    "            \n",
    "print(\"Local minimum occurs where:\")\n",
    "print(\"theta_0 =\", theta_new[0])\n",
    "print(\"theta_1 =\", theta_new[1])"
   ]
  },
  {
   "cell_type": "markdown",
   "metadata": {},
   "source": [
    "As you can see, our values for $\\theta_0$ and $\\theta_1$ are close to their true values of 7 and 3.\n",
    "\n",
    "Now, we plot our cost versus the number of iterations. As you can see, the cost goes down quickly at first, but starts to level off as we go through more iterations:"
   ]
  },
  {
   "cell_type": "code",
   "execution_count": 5,
   "metadata": {},
   "outputs": [
    {
     "data": {
      "image/png": "[encoded data removed]",
      "text/plain": [
       "<Figure size 432x288 with 1 Axes>"
      ]
     },
     "metadata": {
      "needs_background": "light"
     },
     "output_type": "display_data"
    }
   ],
   "source": [
    "iterations = np.arange(len(cost_list)) * 10000\n",
    "plt.plot(iterations,cost_list)\n",
    "plt.xlabel(\"iterations\")\n",
    "plt.ylabel(\"avg cost\")\n",
    "plt.show()"
   ]
  },
  {
   "cell_type": "markdown",
   "metadata": {},
   "source": [
    "Well, that was kind of cool, but I wish that I didn't need to calculate the gradients myself before I can apply gradient descent or stochastic gradient descent. I wonder if there is some tool that can do that for whichever functions that I am interested in... <b>Pytorch</b> comes to help!\n",
    "\n",
    "So let's use the same example from above and use Pytorch to help us calculate gradients automatically."
   ]
  },
  {
   "cell_type": "code",
   "execution_count": 13,
   "metadata": {},
   "outputs": [
    {
     "name": "stdout",
     "output_type": "stream",
     "text": [
      "Local minimum occurs where:\n",
      "theta_0 = 7.106701374053955\n",
      "theta_1 = 2.9282243251800537\n"
     ]
    }
   ],
   "source": [
    "# conda install pytorch\n",
    "import torch\n",
    "\n",
    "torch.manual_seed(42)\n",
    "\n",
    "lr = 0.00005 # learning rate or step size\n",
    "\n",
    "# let's get our data points x and y into the expected format\n",
    "x_tensor = torch.from_numpy(x).float()\n",
    "y_tensor = torch.from_numpy(y).float()\n",
    "\n",
    "# theta_0, theta_1\n",
    "theta = torch.tensor([1., 1.], requires_grad=True, dtype=torch.float)\n",
    "\n",
    "iter_num = 0\n",
    "cost_list = []\n",
    "\n",
    "# stopping condition based on iteration count\n",
    "for i in range(m * 5):\n",
    "    iter_num += 1\n",
    "    # random choice of matching x and y\n",
    "    idx = np.random.randint(0, m, size=batch)\n",
    "    x_i = x_tensor[idx]\n",
    "    y_i = y_tensor[idx]\n",
    "    \n",
    "    yhat = theta[0] + theta[1] * x_i\n",
    "    error = y_i - yhat\n",
    "    loss = (error ** 2).mean() #J\n",
    "    sum_cost += float(loss.data)\n",
    "\n",
    "    loss.backward() # this is the magic\n",
    "\n",
    "    theta.data -= lr * theta.grad\n",
    "#     theta.grad.detach()\n",
    "    theta.grad.zero_() # Fills self tensor with zeros\n",
    "    \n",
    "    # saved for plot\n",
    "    if (i + 1) % 10000 == 0:\n",
    "        cost_list.append(sum_cost / 10000.0)\n",
    "        sum_cost = 0\n",
    "            \n",
    "print(\"Local minimum occurs where:\")\n",
    "print(\"theta_0 =\", float(theta[0].data))\n",
    "print(\"theta_1 =\", float(theta[1].data))"
   ]
  },
  {
   "cell_type": "code",
   "execution_count": 11,
   "metadata": {},
   "outputs": [
    {
     "data": {
      "image/png": "[encoded data removed]",
      "text/plain": [
       "<Figure size 432x288 with 1 Axes>"
      ]
     },
     "metadata": {
      "needs_background": "light"
     },
     "output_type": "display_data"
    }
   ],
   "source": [
    "iterations = np.arange(len(cost_list)) * 10000\n",
    "plt.plot(iterations,cost_list)\n",
    "plt.xlabel(\"iterations\")\n",
    "plt.ylabel(\"avg cost\")\n",
    "plt.show()"
   ]
  },
  {
   "cell_type": "markdown",
   "metadata": {},
   "source": [
    "The loss above really fluctuates (noisy) due to random choices of x and y at each iteration (epoch)."
   ]
  },
  {
   "cell_type": "markdown",
   "metadata": {},
   "source": [
    "If you would like to learn about Pytorch, feel free to check out its documentation and more tutorials [here](https://pytorch.org/). We will be discussing more Pytorch in depth in later weeks of the quarter when we talk about neural networks, so stay tuned and excited!"
   ]
  },
  {
   "cell_type": "code",
   "execution_count": null,
   "metadata": {},
   "outputs": [],
   "source": []
  }
 ],
 "metadata": {
  "kernelspec": {
   "display_name": "Python 3",
   "language": "python",
   "name": "python3"
  },
  "language_info": {
   "codemirror_mode": {
    "name": "ipython",
    "version": 3
   },
   "file_extension": ".py",
   "mimetype": "text/x-python",
   "name": "python",
   "nbconvert_exporter": "python",
   "pygments_lexer": "ipython3",
   "version": "3.7.6"
  }
 },
 "nbformat": 4,
 "nbformat_minor": 4
}
