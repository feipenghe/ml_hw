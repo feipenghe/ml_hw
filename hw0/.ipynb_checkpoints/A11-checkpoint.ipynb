{
 "cells": [
  {
   "cell_type": "code",
   "execution_count": 2,
   "metadata": {
    "scrolled": true
   },
   "outputs": [
    {
     "name": "stdout",
     "output_type": "stream",
     "text": [
      "A^(-1)\n",
      "[[ 0.125 -0.625  0.75 ]\n",
      " [-0.25   0.75  -0.5  ]\n",
      " [ 0.375 -0.375  0.25 ]]\n"
     ]
    }
   ],
   "source": [
    "import numpy as np\n",
    "\n",
    "A = np.array([[0,2,4],[2,4,2],[3,3,1]])\n",
    "print(\"A^(-1)\")\n",
    "print(np.linalg.inv(A))"
   ]
  },
  {
   "cell_type": "code",
   "execution_count": 3,
   "metadata": {},
   "outputs": [
    {
     "name": "stdout",
     "output_type": "stream",
     "text": [
      "A^(-1)b\n",
      "[[-0.25  1.25 -1.5 ]\n",
      " [ 0.5  -1.5   1.  ]\n",
      " [-1.5   1.5  -1.  ]]\n"
     ]
    }
   ],
   "source": [
    "b = np.array([[-2],[-2],[-4]])\n",
    "print(\"A^(-1)b\")\n",
    "print(np.linalg.inv(A)*b)"
   ]
  },
  {
   "cell_type": "code",
   "execution_count": 3,
   "metadata": {
    "scrolled": true
   },
   "outputs": [
    {
     "name": "stdout",
     "output_type": "stream",
     "text": [
      "Ac\n",
      "[[0 2 4]\n",
      " [2 4 2]\n",
      " [3 3 1]]\n"
     ]
    }
   ],
   "source": [
    "c = np.array([[1],[1],[1]])\n",
    "print(\"Ac\")\n",
    "print(A*c)"
   ]
  },
  {
   "cell_type": "code",
   "execution_count": 6,
   "metadata": {},
   "outputs": [],
   "source": [
    "import matplotlib.pyplot as plt\n",
    "\n",
    "Z = np.random.randn(1)"
   ]
  },
  {
   "cell_type": "code",
   "execution_count": 8,
   "metadata": {},
   "outputs": [
    {
     "name": "stdout",
     "output_type": "stream",
     "text": [
      "[-0.78066345]\n"
     ]
    }
   ],
   "source": [
    "print(Z)"
   ]
  }
 ],
 "metadata": {
  "kernelspec": {
   "display_name": "Python 3",
   "language": "python",
   "name": "python3"
  },
  "language_info": {
   "codemirror_mode": {
    "name": "ipython",
    "version": 3
   },
   "file_extension": ".py",
   "mimetype": "text/x-python",
   "name": "python",
   "nbconvert_exporter": "python",
   "pygments_lexer": "ipython3",
   "version": "3.7.4"
  }
 },
 "nbformat": 4,
 "nbformat_minor": 2
}
